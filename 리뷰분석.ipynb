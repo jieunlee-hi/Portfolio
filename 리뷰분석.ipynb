{
  "nbformat": 4,
  "nbformat_minor": 0,
  "metadata": {
    "colab": {
      "provenance": [],
      "authorship_tag": "ABX9TyPdKnnt2npJk6wScEu8ltBb",
      "include_colab_link": true
    },
    "kernelspec": {
      "name": "python3",
      "display_name": "Python 3"
    },
    "language_info": {
      "name": "python"
    }
  },
  "cells": [
    {
      "cell_type": "markdown",
      "metadata": {
        "id": "view-in-github",
        "colab_type": "text"
      },
      "source": [
        "<a href=\"https://colab.research.google.com/github/jieunlee-hi/Portfolio/blob/main/%EB%A6%AC%EB%B7%B0%EB%B6%84%EC%84%9D.ipynb\" target=\"_parent\"><img src=\"https://colab.research.google.com/assets/colab-badge.svg\" alt=\"Open In Colab\"/></a>"
      ]
    },
    {
      "cell_type": "code",
      "execution_count": null,
      "metadata": {
        "colab": {
          "base_uri": "https://localhost:8080/"
        },
        "id": "PP3FlvT3I5gM",
        "outputId": "fca3ac48-ef9f-44cb-b5a3-8cf46112fa95"
      },
      "outputs": [
        {
          "output_type": "stream",
          "name": "stdout",
          "text": [
            "Mounted at ./drive\n"
          ]
        }
      ],
      "source": [
        "from google.colab import auth\n",
        "auth.authenticate_user()\n",
        "from google.colab import drive\n",
        "drive.mount('./drive')"
      ]
    },
    {
      "cell_type": "code",
      "source": [
        "import warnings\n",
        "warnings.filterwarnings(\"ignore\")"
      ],
      "metadata": {
        "id": "-poV2YAiJJ3D"
      },
      "execution_count": null,
      "outputs": []
    },
    {
      "cell_type": "code",
      "source": [
        "# 라이브러리 로드 : pandas, matplotlib.pyplot , numpy\n",
        "import pandas as pd\n",
        "import matplotlib.pyplot as plt\n",
        "import numpy as np\n",
        "import seaborn as sns\n",
        "from datetime import datetime"
      ],
      "metadata": {
        "id": "Y4QezmHJJLDs"
      },
      "execution_count": null,
      "outputs": []
    },
    {
      "cell_type": "code",
      "source": [
        "import matplotlib.font_manager as fm\n",
        "\n",
        "font_list = fm.findSystemFonts(fontpaths = None, fontext = 'ttf')\n",
        "font_list[:]"
      ],
      "metadata": {
        "colab": {
          "base_uri": "https://localhost:8080/"
        },
        "id": "yI86BLYrMRDN",
        "outputId": "618db5d1-fbcd-4204-955a-e55022942f26"
      },
      "execution_count": null,
      "outputs": [
        {
          "output_type": "execute_result",
          "data": {
            "text/plain": [
              "['/usr/share/fonts/truetype/liberation/LiberationSansNarrow-Italic.ttf',\n",
              " '/usr/share/fonts/truetype/liberation/LiberationSans-BoldItalic.ttf',\n",
              " '/usr/share/fonts/truetype/liberation/LiberationSans-Italic.ttf',\n",
              " '/usr/share/fonts/truetype/liberation/LiberationSerif-BoldItalic.ttf',\n",
              " '/usr/share/fonts/truetype/humor-sans/Humor-Sans.ttf',\n",
              " '/usr/share/fonts/truetype/liberation/LiberationMono-Regular.ttf',\n",
              " '/usr/share/fonts/truetype/liberation/LiberationSerif-Bold.ttf',\n",
              " '/usr/share/fonts/truetype/liberation/LiberationSansNarrow-Regular.ttf',\n",
              " '/usr/share/fonts/truetype/liberation/LiberationSansNarrow-BoldItalic.ttf',\n",
              " '/usr/share/fonts/truetype/liberation/LiberationSerif-Italic.ttf',\n",
              " '/usr/share/fonts/truetype/liberation/LiberationMono-BoldItalic.ttf',\n",
              " '/usr/share/fonts/truetype/liberation/LiberationMono-Italic.ttf',\n",
              " '/usr/share/fonts/truetype/liberation/LiberationSans-Regular.ttf',\n",
              " '/usr/share/fonts/truetype/liberation/LiberationSerif-Regular.ttf',\n",
              " '/usr/share/fonts/truetype/liberation/LiberationSansNarrow-Bold.ttf',\n",
              " '/usr/share/fonts/truetype/liberation/LiberationSans-Bold.ttf',\n",
              " '/usr/share/fonts/truetype/liberation/LiberationMono-Bold.ttf']"
            ]
          },
          "metadata": {},
          "execution_count": 4
        }
      ]
    },
    {
      "cell_type": "code",
      "source": [
        "from matplotlib import font_manager,rc\n",
        "font_path='/usr/share/fonts/truetype/nanum/NanumMyeongjo.ttf'\n",
        "font=font_manager.FontProperties(fname=font_path).get_name()\n",
        "rc('font',family=font)"
      ],
      "metadata": {
        "id": "7VFlolOXMYnF",
        "colab": {
          "base_uri": "https://localhost:8080/",
          "height": 377
        },
        "outputId": "d872eca8-c0de-4fa5-f248-cfa5d5c57eed"
      },
      "execution_count": null,
      "outputs": [
        {
          "output_type": "error",
          "ename": "FileNotFoundError",
          "evalue": "ignored",
          "traceback": [
            "\u001b[0;31m---------------------------------------------------------------------------\u001b[0m",
            "\u001b[0;31mFileNotFoundError\u001b[0m                         Traceback (most recent call last)",
            "\u001b[0;32m<ipython-input-6-fcdf445c81bd>\u001b[0m in \u001b[0;36m<cell line: 3>\u001b[0;34m()\u001b[0m\n\u001b[1;32m      1\u001b[0m \u001b[0;32mfrom\u001b[0m \u001b[0mmatplotlib\u001b[0m \u001b[0;32mimport\u001b[0m \u001b[0mfont_manager\u001b[0m\u001b[0;34m,\u001b[0m\u001b[0mrc\u001b[0m\u001b[0;34m\u001b[0m\u001b[0;34m\u001b[0m\u001b[0m\n\u001b[1;32m      2\u001b[0m \u001b[0mfont_path\u001b[0m\u001b[0;34m=\u001b[0m\u001b[0;34m'/usr/share/fonts/truetype/nanum/NanumMyeongjo.ttf'\u001b[0m\u001b[0;34m\u001b[0m\u001b[0;34m\u001b[0m\u001b[0m\n\u001b[0;32m----> 3\u001b[0;31m \u001b[0mfont\u001b[0m\u001b[0;34m=\u001b[0m\u001b[0mfont_manager\u001b[0m\u001b[0;34m.\u001b[0m\u001b[0mFontProperties\u001b[0m\u001b[0;34m(\u001b[0m\u001b[0mfname\u001b[0m\u001b[0;34m=\u001b[0m\u001b[0mfont_path\u001b[0m\u001b[0;34m)\u001b[0m\u001b[0;34m.\u001b[0m\u001b[0mget_name\u001b[0m\u001b[0;34m(\u001b[0m\u001b[0;34m)\u001b[0m\u001b[0;34m\u001b[0m\u001b[0;34m\u001b[0m\u001b[0m\n\u001b[0m\u001b[1;32m      4\u001b[0m \u001b[0mrc\u001b[0m\u001b[0;34m(\u001b[0m\u001b[0;34m'font'\u001b[0m\u001b[0;34m,\u001b[0m\u001b[0mfamily\u001b[0m\u001b[0;34m=\u001b[0m\u001b[0mfont\u001b[0m\u001b[0;34m)\u001b[0m\u001b[0;34m\u001b[0m\u001b[0;34m\u001b[0m\u001b[0m\n",
            "\u001b[0;32m/usr/local/lib/python3.9/dist-packages/matplotlib/font_manager.py\u001b[0m in \u001b[0;36mget_name\u001b[0;34m(self)\u001b[0m\n\u001b[1;32m    660\u001b[0m         \u001b[0mReturn\u001b[0m \u001b[0mthe\u001b[0m \u001b[0mname\u001b[0m \u001b[0mof\u001b[0m \u001b[0mthe\u001b[0m \u001b[0mfont\u001b[0m \u001b[0mthat\u001b[0m \u001b[0mbest\u001b[0m \u001b[0mmatches\u001b[0m \u001b[0mthe\u001b[0m \u001b[0mfont\u001b[0m \u001b[0mproperties\u001b[0m\u001b[0;34m.\u001b[0m\u001b[0;34m\u001b[0m\u001b[0;34m\u001b[0m\u001b[0m\n\u001b[1;32m    661\u001b[0m         \"\"\"\n\u001b[0;32m--> 662\u001b[0;31m         \u001b[0;32mreturn\u001b[0m \u001b[0mget_font\u001b[0m\u001b[0;34m(\u001b[0m\u001b[0mfindfont\u001b[0m\u001b[0;34m(\u001b[0m\u001b[0mself\u001b[0m\u001b[0;34m)\u001b[0m\u001b[0;34m)\u001b[0m\u001b[0;34m.\u001b[0m\u001b[0mfamily_name\u001b[0m\u001b[0;34m\u001b[0m\u001b[0;34m\u001b[0m\u001b[0m\n\u001b[0m\u001b[1;32m    663\u001b[0m \u001b[0;34m\u001b[0m\u001b[0m\n\u001b[1;32m    664\u001b[0m     \u001b[0;32mdef\u001b[0m \u001b[0mget_style\u001b[0m\u001b[0;34m(\u001b[0m\u001b[0mself\u001b[0m\u001b[0;34m)\u001b[0m\u001b[0;34m:\u001b[0m\u001b[0;34m\u001b[0m\u001b[0;34m\u001b[0m\u001b[0m\n",
            "\u001b[0;32m/usr/local/lib/python3.9/dist-packages/matplotlib/_api/deprecation.py\u001b[0m in \u001b[0;36mwrapper\u001b[0;34m(*args, **kwargs)\u001b[0m\n\u001b[1;32m    295\u001b[0m                 f\"for the old name will be dropped %(removal)s.\")\n\u001b[1;32m    296\u001b[0m             \u001b[0mkwargs\u001b[0m\u001b[0;34m[\u001b[0m\u001b[0mnew\u001b[0m\u001b[0;34m]\u001b[0m \u001b[0;34m=\u001b[0m \u001b[0mkwargs\u001b[0m\u001b[0;34m.\u001b[0m\u001b[0mpop\u001b[0m\u001b[0;34m(\u001b[0m\u001b[0mold\u001b[0m\u001b[0;34m)\u001b[0m\u001b[0;34m\u001b[0m\u001b[0;34m\u001b[0m\u001b[0m\n\u001b[0;32m--> 297\u001b[0;31m         \u001b[0;32mreturn\u001b[0m \u001b[0mfunc\u001b[0m\u001b[0;34m(\u001b[0m\u001b[0;34m*\u001b[0m\u001b[0margs\u001b[0m\u001b[0;34m,\u001b[0m \u001b[0;34m**\u001b[0m\u001b[0mkwargs\u001b[0m\u001b[0;34m)\u001b[0m\u001b[0;34m\u001b[0m\u001b[0;34m\u001b[0m\u001b[0m\n\u001b[0m\u001b[1;32m    298\u001b[0m \u001b[0;34m\u001b[0m\u001b[0m\n\u001b[1;32m    299\u001b[0m     \u001b[0;31m# wrapper() must keep the same documented signature as func(): if we\u001b[0m\u001b[0;34m\u001b[0m\u001b[0;34m\u001b[0m\u001b[0m\n",
            "\u001b[0;32m/usr/local/lib/python3.9/dist-packages/matplotlib/font_manager.py\u001b[0m in \u001b[0;36mget_font\u001b[0;34m(font_filepaths, hinting_factor)\u001b[0m\n\u001b[1;32m   1518\u001b[0m         \u001b[0mhinting_factor\u001b[0m \u001b[0;34m=\u001b[0m \u001b[0mmpl\u001b[0m\u001b[0;34m.\u001b[0m\u001b[0mrcParams\u001b[0m\u001b[0;34m[\u001b[0m\u001b[0;34m'text.hinting_factor'\u001b[0m\u001b[0;34m]\u001b[0m\u001b[0;34m\u001b[0m\u001b[0;34m\u001b[0m\u001b[0m\n\u001b[1;32m   1519\u001b[0m \u001b[0;34m\u001b[0m\u001b[0m\n\u001b[0;32m-> 1520\u001b[0;31m     return _get_font(\n\u001b[0m\u001b[1;32m   1521\u001b[0m         \u001b[0;31m# must be a tuple to be cached\u001b[0m\u001b[0;34m\u001b[0m\u001b[0;34m\u001b[0m\u001b[0m\n\u001b[1;32m   1522\u001b[0m         \u001b[0mpaths\u001b[0m\u001b[0;34m,\u001b[0m\u001b[0;34m\u001b[0m\u001b[0;34m\u001b[0m\u001b[0m\n",
            "\u001b[0;32m/usr/local/lib/python3.9/dist-packages/matplotlib/font_manager.py\u001b[0m in \u001b[0;36m_get_font\u001b[0;34m(font_filepaths, hinting_factor, _kerning_factor, thread_id)\u001b[0m\n\u001b[1;32m   1459\u001b[0m \u001b[0;32mdef\u001b[0m \u001b[0m_get_font\u001b[0m\u001b[0;34m(\u001b[0m\u001b[0mfont_filepaths\u001b[0m\u001b[0;34m,\u001b[0m \u001b[0mhinting_factor\u001b[0m\u001b[0;34m,\u001b[0m \u001b[0;34m*\u001b[0m\u001b[0;34m,\u001b[0m \u001b[0m_kerning_factor\u001b[0m\u001b[0;34m,\u001b[0m \u001b[0mthread_id\u001b[0m\u001b[0;34m)\u001b[0m\u001b[0;34m:\u001b[0m\u001b[0;34m\u001b[0m\u001b[0;34m\u001b[0m\u001b[0m\n\u001b[1;32m   1460\u001b[0m     \u001b[0mfirst_fontpath\u001b[0m\u001b[0;34m,\u001b[0m \u001b[0;34m*\u001b[0m\u001b[0mrest\u001b[0m \u001b[0;34m=\u001b[0m \u001b[0mfont_filepaths\u001b[0m\u001b[0;34m\u001b[0m\u001b[0;34m\u001b[0m\u001b[0m\n\u001b[0;32m-> 1461\u001b[0;31m     return ft2font.FT2Font(\n\u001b[0m\u001b[1;32m   1462\u001b[0m         \u001b[0mfirst_fontpath\u001b[0m\u001b[0;34m,\u001b[0m \u001b[0mhinting_factor\u001b[0m\u001b[0;34m,\u001b[0m\u001b[0;34m\u001b[0m\u001b[0;34m\u001b[0m\u001b[0m\n\u001b[1;32m   1463\u001b[0m         _fallback_list=[\n",
            "\u001b[0;31mFileNotFoundError\u001b[0m: [Errno 2] No such file or directory: '/usr/share/fonts/truetype/nanum/NanumMyeongjo.ttf'"
          ]
        }
      ]
    },
    {
      "cell_type": "code",
      "source": [
        "\n",
        "!sudo apt-get install -y fonts-nanum\n",
        "!sudo fc-cache -fv\n",
        "!rm ~/.cache/matplotlib -rf"
      ],
      "metadata": {
        "id": "ZC9Je-6aYaTP",
        "colab": {
          "base_uri": "https://localhost:8080/"
        },
        "outputId": "df84be4e-e6fb-4f50-916a-9822618711e7"
      },
      "execution_count": null,
      "outputs": [
        {
          "output_type": "stream",
          "name": "stdout",
          "text": [
            "Reading package lists... Done\n",
            "Building dependency tree       \n",
            "Reading state information... Done\n",
            "The following NEW packages will be installed:\n",
            "  fonts-nanum\n",
            "0 upgraded, 1 newly installed, 0 to remove and 24 not upgraded.\n",
            "Need to get 9,599 kB of archives.\n",
            "After this operation, 29.6 MB of additional disk space will be used.\n",
            "Get:1 http://archive.ubuntu.com/ubuntu focal/universe amd64 fonts-nanum all 20180306-3 [9,599 kB]\n",
            "Fetched 9,599 kB in 1s (15.4 MB/s)\n",
            "debconf: unable to initialize frontend: Dialog\n",
            "debconf: (No usable dialog-like program is installed, so the dialog based frontend cannot be used. at /usr/share/perl5/Debconf/FrontEnd/Dialog.pm line 76, <> line 1.)\n",
            "debconf: falling back to frontend: Readline\n",
            "debconf: unable to initialize frontend: Readline\n",
            "debconf: (This frontend requires a controlling tty.)\n",
            "debconf: falling back to frontend: Teletype\n",
            "dpkg-preconfigure: unable to re-open stdin: \n",
            "Selecting previously unselected package fonts-nanum.\n",
            "(Reading database ... 122349 files and directories currently installed.)\n",
            "Preparing to unpack .../fonts-nanum_20180306-3_all.deb ...\n",
            "Unpacking fonts-nanum (20180306-3) ...\n",
            "Setting up fonts-nanum (20180306-3) ...\n",
            "Processing triggers for fontconfig (2.13.1-2ubuntu3) ...\n",
            "/usr/share/fonts: caching, new cache contents: 0 fonts, 1 dirs\n",
            "/usr/share/fonts/truetype: caching, new cache contents: 0 fonts, 3 dirs\n",
            "/usr/share/fonts/truetype/humor-sans: caching, new cache contents: 1 fonts, 0 dirs\n",
            "/usr/share/fonts/truetype/liberation: caching, new cache contents: 16 fonts, 0 dirs\n",
            "/usr/share/fonts/truetype/nanum: caching, new cache contents: 10 fonts, 0 dirs\n",
            "/usr/local/share/fonts: caching, new cache contents: 0 fonts, 0 dirs\n",
            "/root/.local/share/fonts: skipping, no such directory\n",
            "/root/.fonts: skipping, no such directory\n",
            "/usr/share/fonts/truetype: skipping, looped directory detected\n",
            "/usr/share/fonts/truetype/humor-sans: skipping, looped directory detected\n",
            "/usr/share/fonts/truetype/liberation: skipping, looped directory detected\n",
            "/usr/share/fonts/truetype/nanum: skipping, looped directory detected\n",
            "/var/cache/fontconfig: cleaning cache directory\n",
            "/root/.cache/fontconfig: not cleaning non-existent cache directory\n",
            "/root/.fontconfig: not cleaning non-existent cache directory\n",
            "fc-cache: succeeded\n"
          ]
        }
      ]
    },
    {
      "cell_type": "code",
      "source": [
        "\n",
        "plt.rc('font', family='NanumBarunGothic')"
      ],
      "metadata": {
        "id": "jJLytW52Yeo0"
      },
      "execution_count": null,
      "outputs": []
    },
    {
      "cell_type": "code",
      "source": [
        "data_path ='/content/drive/MyDrive/'\n",
        "df=pd.read_excel(data_path + 'reviews.xlsx', index_col=None,dtype=str)\n",
        "#df=pd.read_excel('/content/sample_data/1year_environment_issue.xlsx', header=None, index_col=None)\n",
        "df.rename(columns={\"cate2\": \"CATE\", \"message\": \"REVIEW\", \"score\":\"SCORE\", \"created_at\":\"Date\"}, inplace=True)\n",
        "df.tail()"
      ],
      "metadata": {
        "colab": {
          "base_uri": "https://localhost:8080/",
          "height": 354
        },
        "id": "VabpHbPyM2my",
        "outputId": "c8b7edcc-60e5-4802-9153-10e6e6bd6879"
      },
      "execution_count": null,
      "outputs": [
        {
          "output_type": "execute_result",
          "data": {
            "text/plain": [
              "     user_name    user_id user_grade   brand_user_grade  \\\n",
              "8958  hyde****        NaN        비회원                미확인   \n",
              "8959  i_ca****        NaN        비회원                미확인   \n",
              "8960       김기환  ghkssmzla         회원             FAMILY   \n",
              "8961       최경주     ckj321         회원  [유료]Mom&Baby Club   \n",
              "8962       최경주     ckj321         회원  [유료]Mom&Baby Club   \n",
              "\n",
              "                  product_name product_code         CATE  \\\n",
              "8958  a2 플래티넘® 분유 2단계 900g 3개입   1000000425  a2 플래티넘 2단계   \n",
              "8959             디어키즈스틱 (60일분)   1000000960       디어키즈스틱   \n",
              "8960   [일반] 뉴오리진 키즈오메가3 (60캡슐)   1000001105       키즈오메가3   \n",
              "8961      a2 플래티넘® 분유 2단계 900g   1000000236  a2 플래티넘 2단계   \n",
              "8962      a2 플래티넘® 분유 2단계 900g   1000000236  a2 플래티넘 2단계   \n",
              "\n",
              "                                                 REVIEW SCORE  \\\n",
              "8958                                  배송도 빠르고 아기가 잘 먹어요     5   \n",
              "8959                                세일해서 1+1 해서 너무 좋았어요     5   \n",
              "8960  아이가 9살인데도 다른 영양제를 맛이없단 이유로 먹질 않았어요ㅠ 근데 오리진 오메가...     5   \n",
              "8961                            믿고먹는 A2!! 항상 잘먹이고 있어요!!     5   \n",
              "8962                            A2분유 우리아이에게 열심히 먹이고있습니다     5   \n",
              "\n",
              "                           Date  \n",
              "8958  2023-02-06 08:38:03 +0900  \n",
              "8959  2023-02-06 08:08:04 +0900  \n",
              "8960  2023-02-07 07:12:00 +0900  \n",
              "8961  2023-02-07 09:02:49 +0900  \n",
              "8962  2023-02-07 09:03:17 +0900  "
            ],
            "text/html": [
              "\n",
              "  <div id=\"df-1c94eb63-50e7-4cac-8621-3ab079bcf901\">\n",
              "    <div class=\"colab-df-container\">\n",
              "      <div>\n",
              "<style scoped>\n",
              "    .dataframe tbody tr th:only-of-type {\n",
              "        vertical-align: middle;\n",
              "    }\n",
              "\n",
              "    .dataframe tbody tr th {\n",
              "        vertical-align: top;\n",
              "    }\n",
              "\n",
              "    .dataframe thead th {\n",
              "        text-align: right;\n",
              "    }\n",
              "</style>\n",
              "<table border=\"1\" class=\"dataframe\">\n",
              "  <thead>\n",
              "    <tr style=\"text-align: right;\">\n",
              "      <th></th>\n",
              "      <th>user_name</th>\n",
              "      <th>user_id</th>\n",
              "      <th>user_grade</th>\n",
              "      <th>brand_user_grade</th>\n",
              "      <th>product_name</th>\n",
              "      <th>product_code</th>\n",
              "      <th>CATE</th>\n",
              "      <th>REVIEW</th>\n",
              "      <th>SCORE</th>\n",
              "      <th>Date</th>\n",
              "    </tr>\n",
              "  </thead>\n",
              "  <tbody>\n",
              "    <tr>\n",
              "      <th>8958</th>\n",
              "      <td>hyde****</td>\n",
              "      <td>NaN</td>\n",
              "      <td>비회원</td>\n",
              "      <td>미확인</td>\n",
              "      <td>a2 플래티넘® 분유 2단계 900g 3개입</td>\n",
              "      <td>1000000425</td>\n",
              "      <td>a2 플래티넘 2단계</td>\n",
              "      <td>배송도 빠르고 아기가 잘 먹어요</td>\n",
              "      <td>5</td>\n",
              "      <td>2023-02-06 08:38:03 +0900</td>\n",
              "    </tr>\n",
              "    <tr>\n",
              "      <th>8959</th>\n",
              "      <td>i_ca****</td>\n",
              "      <td>NaN</td>\n",
              "      <td>비회원</td>\n",
              "      <td>미확인</td>\n",
              "      <td>디어키즈스틱 (60일분)</td>\n",
              "      <td>1000000960</td>\n",
              "      <td>디어키즈스틱</td>\n",
              "      <td>세일해서 1+1 해서 너무 좋았어요</td>\n",
              "      <td>5</td>\n",
              "      <td>2023-02-06 08:08:04 +0900</td>\n",
              "    </tr>\n",
              "    <tr>\n",
              "      <th>8960</th>\n",
              "      <td>김기환</td>\n",
              "      <td>ghkssmzla</td>\n",
              "      <td>회원</td>\n",
              "      <td>FAMILY</td>\n",
              "      <td>[일반] 뉴오리진 키즈오메가3 (60캡슐)</td>\n",
              "      <td>1000001105</td>\n",
              "      <td>키즈오메가3</td>\n",
              "      <td>아이가 9살인데도 다른 영양제를 맛이없단 이유로 먹질 않았어요ㅠ 근데 오리진 오메가...</td>\n",
              "      <td>5</td>\n",
              "      <td>2023-02-07 07:12:00 +0900</td>\n",
              "    </tr>\n",
              "    <tr>\n",
              "      <th>8961</th>\n",
              "      <td>최경주</td>\n",
              "      <td>ckj321</td>\n",
              "      <td>회원</td>\n",
              "      <td>[유료]Mom&amp;Baby Club</td>\n",
              "      <td>a2 플래티넘® 분유 2단계 900g</td>\n",
              "      <td>1000000236</td>\n",
              "      <td>a2 플래티넘 2단계</td>\n",
              "      <td>믿고먹는 A2!! 항상 잘먹이고 있어요!!</td>\n",
              "      <td>5</td>\n",
              "      <td>2023-02-07 09:02:49 +0900</td>\n",
              "    </tr>\n",
              "    <tr>\n",
              "      <th>8962</th>\n",
              "      <td>최경주</td>\n",
              "      <td>ckj321</td>\n",
              "      <td>회원</td>\n",
              "      <td>[유료]Mom&amp;Baby Club</td>\n",
              "      <td>a2 플래티넘® 분유 2단계 900g</td>\n",
              "      <td>1000000236</td>\n",
              "      <td>a2 플래티넘 2단계</td>\n",
              "      <td>A2분유 우리아이에게 열심히 먹이고있습니다</td>\n",
              "      <td>5</td>\n",
              "      <td>2023-02-07 09:03:17 +0900</td>\n",
              "    </tr>\n",
              "  </tbody>\n",
              "</table>\n",
              "</div>\n",
              "      <button class=\"colab-df-convert\" onclick=\"convertToInteractive('df-1c94eb63-50e7-4cac-8621-3ab079bcf901')\"\n",
              "              title=\"Convert this dataframe to an interactive table.\"\n",
              "              style=\"display:none;\">\n",
              "        \n",
              "  <svg xmlns=\"http://www.w3.org/2000/svg\" height=\"24px\"viewBox=\"0 0 24 24\"\n",
              "       width=\"24px\">\n",
              "    <path d=\"M0 0h24v24H0V0z\" fill=\"none\"/>\n",
              "    <path d=\"M18.56 5.44l.94 2.06.94-2.06 2.06-.94-2.06-.94-.94-2.06-.94 2.06-2.06.94zm-11 1L8.5 8.5l.94-2.06 2.06-.94-2.06-.94L8.5 2.5l-.94 2.06-2.06.94zm10 10l.94 2.06.94-2.06 2.06-.94-2.06-.94-.94-2.06-.94 2.06-2.06.94z\"/><path d=\"M17.41 7.96l-1.37-1.37c-.4-.4-.92-.59-1.43-.59-.52 0-1.04.2-1.43.59L10.3 9.45l-7.72 7.72c-.78.78-.78 2.05 0 2.83L4 21.41c.39.39.9.59 1.41.59.51 0 1.02-.2 1.41-.59l7.78-7.78 2.81-2.81c.8-.78.8-2.07 0-2.86zM5.41 20L4 18.59l7.72-7.72 1.47 1.35L5.41 20z\"/>\n",
              "  </svg>\n",
              "      </button>\n",
              "      \n",
              "  <style>\n",
              "    .colab-df-container {\n",
              "      display:flex;\n",
              "      flex-wrap:wrap;\n",
              "      gap: 12px;\n",
              "    }\n",
              "\n",
              "    .colab-df-convert {\n",
              "      background-color: #E8F0FE;\n",
              "      border: none;\n",
              "      border-radius: 50%;\n",
              "      cursor: pointer;\n",
              "      display: none;\n",
              "      fill: #1967D2;\n",
              "      height: 32px;\n",
              "      padding: 0 0 0 0;\n",
              "      width: 32px;\n",
              "    }\n",
              "\n",
              "    .colab-df-convert:hover {\n",
              "      background-color: #E2EBFA;\n",
              "      box-shadow: 0px 1px 2px rgba(60, 64, 67, 0.3), 0px 1px 3px 1px rgba(60, 64, 67, 0.15);\n",
              "      fill: #174EA6;\n",
              "    }\n",
              "\n",
              "    [theme=dark] .colab-df-convert {\n",
              "      background-color: #3B4455;\n",
              "      fill: #D2E3FC;\n",
              "    }\n",
              "\n",
              "    [theme=dark] .colab-df-convert:hover {\n",
              "      background-color: #434B5C;\n",
              "      box-shadow: 0px 1px 3px 1px rgba(0, 0, 0, 0.15);\n",
              "      filter: drop-shadow(0px 1px 2px rgba(0, 0, 0, 0.3));\n",
              "      fill: #FFFFFF;\n",
              "    }\n",
              "  </style>\n",
              "\n",
              "      <script>\n",
              "        const buttonEl =\n",
              "          document.querySelector('#df-1c94eb63-50e7-4cac-8621-3ab079bcf901 button.colab-df-convert');\n",
              "        buttonEl.style.display =\n",
              "          google.colab.kernel.accessAllowed ? 'block' : 'none';\n",
              "\n",
              "        async function convertToInteractive(key) {\n",
              "          const element = document.querySelector('#df-1c94eb63-50e7-4cac-8621-3ab079bcf901');\n",
              "          const dataTable =\n",
              "            await google.colab.kernel.invokeFunction('convertToInteractive',\n",
              "                                                     [key], {});\n",
              "          if (!dataTable) return;\n",
              "\n",
              "          const docLinkHtml = 'Like what you see? Visit the ' +\n",
              "            '<a target=\"_blank\" href=https://colab.research.google.com/notebooks/data_table.ipynb>data table notebook</a>'\n",
              "            + ' to learn more about interactive tables.';\n",
              "          element.innerHTML = '';\n",
              "          dataTable['output_type'] = 'display_data';\n",
              "          await google.colab.output.renderOutput(dataTable, element);\n",
              "          const docLink = document.createElement('div');\n",
              "          docLink.innerHTML = docLinkHtml;\n",
              "          element.appendChild(docLink);\n",
              "        }\n",
              "      </script>\n",
              "    </div>\n",
              "  </div>\n",
              "  "
            ]
          },
          "metadata": {},
          "execution_count": 9
        }
      ]
    },
    {
      "cell_type": "code",
      "source": [
        "#결측치 확인인\n",
        "df.isna().sum()"
      ],
      "metadata": {
        "colab": {
          "base_uri": "https://localhost:8080/"
        },
        "id": "_u3xmDfnNVI9",
        "outputId": "69225e82-c584-4886-9d42-20007f6923de"
      },
      "execution_count": null,
      "outputs": [
        {
          "output_type": "execute_result",
          "data": {
            "text/plain": [
              "user_name              0\n",
              "user_id             1582\n",
              "user_grade             0\n",
              "brand_user_grade       0\n",
              "product_name           1\n",
              "product_code           0\n",
              "CATE                   4\n",
              "REVIEW                 3\n",
              "SCORE                  0\n",
              "Date                   0\n",
              "dtype: int64"
            ]
          },
          "metadata": {},
          "execution_count": 10
        }
      ]
    },
    {
      "cell_type": "code",
      "source": [
        "df.shape"
      ],
      "metadata": {
        "colab": {
          "base_uri": "https://localhost:8080/"
        },
        "id": "m8Av3nQYTyOD",
        "outputId": "4b5dd050-d448-436c-cd8a-e95bb13e985d"
      },
      "execution_count": null,
      "outputs": [
        {
          "output_type": "execute_result",
          "data": {
            "text/plain": [
              "(8963, 10)"
            ]
          },
          "metadata": {},
          "execution_count": 9
        }
      ]
    },
    {
      "cell_type": "code",
      "source": [
        "# 리뷰가 결측치인 컬럼 삭제\n",
        "df=df.dropna(subset =['REVIEW'])\n",
        "\n",
        "df.shape\n"
      ],
      "metadata": {
        "colab": {
          "base_uri": "https://localhost:8080/"
        },
        "id": "OKCngUywYt9o",
        "outputId": "43a72fec-14c6-40b7-b1b5-d0761e07450c"
      },
      "execution_count": null,
      "outputs": [
        {
          "output_type": "execute_result",
          "data": {
            "text/plain": [
              "(8960, 10)"
            ]
          },
          "metadata": {},
          "execution_count": 10
        }
      ]
    },
    {
      "cell_type": "code",
      "source": [
        "#결측치 확인인\n",
        "df.isna().sum()"
      ],
      "metadata": {
        "colab": {
          "base_uri": "https://localhost:8080/"
        },
        "id": "UBUlc9K7YuIj",
        "outputId": "8c0b81ce-7d99-4afe-f179-533e03cf7aa9"
      },
      "execution_count": null,
      "outputs": [
        {
          "output_type": "execute_result",
          "data": {
            "text/plain": [
              "user_name              0\n",
              "user_id             1581\n",
              "user_grade             0\n",
              "brand_user_grade       0\n",
              "product_name           1\n",
              "product_code           0\n",
              "CATE                   4\n",
              "REVIEW                 0\n",
              "SCORE                  0\n",
              "Date                   0\n",
              "dtype: int64"
            ]
          },
          "metadata": {},
          "execution_count": 11
        }
      ]
    },
    {
      "cell_type": "code",
      "source": [
        "df.info()"
      ],
      "metadata": {
        "colab": {
          "base_uri": "https://localhost:8080/"
        },
        "id": "jbjW2j1QZ2vy",
        "outputId": "f89cf6cd-5f6f-4f2b-bfef-47bf40308855"
      },
      "execution_count": null,
      "outputs": [
        {
          "output_type": "stream",
          "name": "stdout",
          "text": [
            "<class 'pandas.core.frame.DataFrame'>\n",
            "Int64Index: 8960 entries, 0 to 8962\n",
            "Data columns (total 10 columns):\n",
            " #   Column            Non-Null Count  Dtype \n",
            "---  ------            --------------  ----- \n",
            " 0   user_name         8960 non-null   object\n",
            " 1   user_id           7379 non-null   object\n",
            " 2   user_grade        8960 non-null   object\n",
            " 3   brand_user_grade  8960 non-null   object\n",
            " 4   product_name      8959 non-null   object\n",
            " 5   product_code      8960 non-null   object\n",
            " 6   CATE              8956 non-null   object\n",
            " 7   REVIEW            8960 non-null   object\n",
            " 8   SCORE             8960 non-null   object\n",
            " 9   Date              8960 non-null   object\n",
            "dtypes: object(10)\n",
            "memory usage: 770.0+ KB\n"
          ]
        }
      ]
    },
    {
      "cell_type": "code",
      "source": [
        "#a2만\n",
        "df1=df[df['CATE'].str.contains('a2', na=True)]"
      ],
      "metadata": {
        "id": "Jv-LkNEVN1UI"
      },
      "execution_count": null,
      "outputs": []
    },
    {
      "cell_type": "code",
      "source": [
        "df2=df[df['CATE'].str.contains('이너플로라', na=True)]"
      ],
      "metadata": {
        "id": "4CFhhq4SOwZk"
      },
      "execution_count": null,
      "outputs": []
    },
    {
      "cell_type": "code",
      "source": [
        "df2"
      ],
      "metadata": {
        "colab": {
          "base_uri": "https://localhost:8080/",
          "height": 641
        },
        "id": "DkvupW1rO0Mg",
        "outputId": "e6b2881b-b6d6-40e7-a0db-eb823c1f051a"
      },
      "execution_count": null,
      "outputs": [
        {
          "output_type": "execute_result",
          "data": {
            "text/plain": [
              "     user_name    user_id user_grade brand_user_grade  \\\n",
              "6          차주영     jaycha         회원              미확인   \n",
              "14         임병수  dalong209         회원              미확인   \n",
              "77         정인애  inaechung         회원              미확인   \n",
              "78         김선영      sunyk         회원              미확인   \n",
              "81         정인애  inaechung         회원              미확인   \n",
              "...        ...        ...        ...              ...   \n",
              "8950       김지연   wldusk77         회원           FAMILY   \n",
              "8951  bitn****        NaN        비회원              미확인   \n",
              "8952  lees****        NaN        비회원              미확인   \n",
              "8953  soso****        NaN        비회원              미확인   \n",
              "8956  ghl7****        NaN        비회원              미확인   \n",
              "\n",
              "                 product_name product_code   CATE  \\\n",
              "6         이너플로라 여성질유산균 (40일분)   1000000455  이너플로라   \n",
              "14        이너플로라 여성질유산균 (60일분)   1000000048  이너플로라   \n",
              "77        이너플로라 여성질유산균 (60일분)   1000000048  이너플로라   \n",
              "78        이너플로라 여성질유산균 (60일분)   1000000048  이너플로라   \n",
              "81        이너플로라 여성질유산균 (60일분)   1000000048  이너플로라   \n",
              "...                       ...          ...    ...   \n",
              "8950      이너플로라 여성질유산균 (60일분)   1000000048  이너플로라   \n",
              "8951      이너플로라 여성질유산균 (30일분)   1000001122  이너플로라   \n",
              "8952      이너플로라 여성질유산균 (60일분)   1000000048  이너플로라   \n",
              "8953       [시크릿] 이너플로라 (30일분)   1000001131  이너플로라   \n",
              "8956  이너플로라 90일 세트(60일분+30일분)   1000000220  이너플로라   \n",
              "\n",
              "                                                 REVIEW SCORE  \\\n",
              "6                                     선물드리면 다들 너무 좋아하세요     5   \n",
              "14                         효과좋아서 주변분들께 선물도 드리고 재구매하고있어요     5   \n",
              "77    내돈내산 6개월째 !  다른제품 먹어봤는데, 저한테는 진짜 효과가 없어서 (심지어 ...     5   \n",
              "78    이너플로라 꾸준히 먹는 아이템 중 1등이에요! 제가먹어보고 좋으니 지인분들한테도 추...     5   \n",
              "81     제가 먹고 있는 영양제 비교해봤는데 이너플로라 진짜 작아요 목에 걸리는게 하나도 없어요     5   \n",
              "...                                                 ...   ...   \n",
              "8950  할인하길래 구매했어요ㅎㅎ 늘 먹던 제품이라 안심하고 계속 복용 중인데 공홈은 처음 ...     5   \n",
              "8951  구매전에 리뷰 꼼꼼히 읽어보고 구매했어요면역력 조금만 떨어지면 질염이 자꾸 생겨서 ...     5   \n",
              "8952                                 매번 시키고있어요빠른배송감사합니다     5   \n",
              "8953                               유통기한은 짧지만 저렴하게 잘샀어요~     5   \n",
              "8956           나름 싸게 지만 임박상품이라 어쩔수없었던거같아요 효과는 나쁘지않은듯합니다     4   \n",
              "\n",
              "                           Date  \n",
              "6     2021-12-30 21:06:38 +0900  \n",
              "14    2021-12-30 13:04:04 +0900  \n",
              "77    2021-12-27 18:08:44 +0900  \n",
              "78    2021-12-27 18:08:23 +0900  \n",
              "81    2021-12-27 17:54:39 +0900  \n",
              "...                         ...  \n",
              "8950  2023-02-06 22:51:21 +0900  \n",
              "8951  2023-02-06 18:53:01 +0900  \n",
              "8952  2023-02-06 13:33:04 +0900  \n",
              "8953  2023-02-06 12:48:06 +0900  \n",
              "8956  2023-02-06 11:18:07 +0900  \n",
              "\n",
              "[1726 rows x 10 columns]"
            ],
            "text/html": [
              "\n",
              "  <div id=\"df-0b562195-5668-47c5-8929-835f43ee1c7e\">\n",
              "    <div class=\"colab-df-container\">\n",
              "      <div>\n",
              "<style scoped>\n",
              "    .dataframe tbody tr th:only-of-type {\n",
              "        vertical-align: middle;\n",
              "    }\n",
              "\n",
              "    .dataframe tbody tr th {\n",
              "        vertical-align: top;\n",
              "    }\n",
              "\n",
              "    .dataframe thead th {\n",
              "        text-align: right;\n",
              "    }\n",
              "</style>\n",
              "<table border=\"1\" class=\"dataframe\">\n",
              "  <thead>\n",
              "    <tr style=\"text-align: right;\">\n",
              "      <th></th>\n",
              "      <th>user_name</th>\n",
              "      <th>user_id</th>\n",
              "      <th>user_grade</th>\n",
              "      <th>brand_user_grade</th>\n",
              "      <th>product_name</th>\n",
              "      <th>product_code</th>\n",
              "      <th>CATE</th>\n",
              "      <th>REVIEW</th>\n",
              "      <th>SCORE</th>\n",
              "      <th>Date</th>\n",
              "    </tr>\n",
              "  </thead>\n",
              "  <tbody>\n",
              "    <tr>\n",
              "      <th>6</th>\n",
              "      <td>차주영</td>\n",
              "      <td>jaycha</td>\n",
              "      <td>회원</td>\n",
              "      <td>미확인</td>\n",
              "      <td>이너플로라 여성질유산균 (40일분)</td>\n",
              "      <td>1000000455</td>\n",
              "      <td>이너플로라</td>\n",
              "      <td>선물드리면 다들 너무 좋아하세요</td>\n",
              "      <td>5</td>\n",
              "      <td>2021-12-30 21:06:38 +0900</td>\n",
              "    </tr>\n",
              "    <tr>\n",
              "      <th>14</th>\n",
              "      <td>임병수</td>\n",
              "      <td>dalong209</td>\n",
              "      <td>회원</td>\n",
              "      <td>미확인</td>\n",
              "      <td>이너플로라 여성질유산균 (60일분)</td>\n",
              "      <td>1000000048</td>\n",
              "      <td>이너플로라</td>\n",
              "      <td>효과좋아서 주변분들께 선물도 드리고 재구매하고있어요</td>\n",
              "      <td>5</td>\n",
              "      <td>2021-12-30 13:04:04 +0900</td>\n",
              "    </tr>\n",
              "    <tr>\n",
              "      <th>77</th>\n",
              "      <td>정인애</td>\n",
              "      <td>inaechung</td>\n",
              "      <td>회원</td>\n",
              "      <td>미확인</td>\n",
              "      <td>이너플로라 여성질유산균 (60일분)</td>\n",
              "      <td>1000000048</td>\n",
              "      <td>이너플로라</td>\n",
              "      <td>내돈내산 6개월째 !  다른제품 먹어봤는데, 저한테는 진짜 효과가 없어서 (심지어 ...</td>\n",
              "      <td>5</td>\n",
              "      <td>2021-12-27 18:08:44 +0900</td>\n",
              "    </tr>\n",
              "    <tr>\n",
              "      <th>78</th>\n",
              "      <td>김선영</td>\n",
              "      <td>sunyk</td>\n",
              "      <td>회원</td>\n",
              "      <td>미확인</td>\n",
              "      <td>이너플로라 여성질유산균 (60일분)</td>\n",
              "      <td>1000000048</td>\n",
              "      <td>이너플로라</td>\n",
              "      <td>이너플로라 꾸준히 먹는 아이템 중 1등이에요! 제가먹어보고 좋으니 지인분들한테도 추...</td>\n",
              "      <td>5</td>\n",
              "      <td>2021-12-27 18:08:23 +0900</td>\n",
              "    </tr>\n",
              "    <tr>\n",
              "      <th>81</th>\n",
              "      <td>정인애</td>\n",
              "      <td>inaechung</td>\n",
              "      <td>회원</td>\n",
              "      <td>미확인</td>\n",
              "      <td>이너플로라 여성질유산균 (60일분)</td>\n",
              "      <td>1000000048</td>\n",
              "      <td>이너플로라</td>\n",
              "      <td>제가 먹고 있는 영양제 비교해봤는데 이너플로라 진짜 작아요 목에 걸리는게 하나도 없어요</td>\n",
              "      <td>5</td>\n",
              "      <td>2021-12-27 17:54:39 +0900</td>\n",
              "    </tr>\n",
              "    <tr>\n",
              "      <th>...</th>\n",
              "      <td>...</td>\n",
              "      <td>...</td>\n",
              "      <td>...</td>\n",
              "      <td>...</td>\n",
              "      <td>...</td>\n",
              "      <td>...</td>\n",
              "      <td>...</td>\n",
              "      <td>...</td>\n",
              "      <td>...</td>\n",
              "      <td>...</td>\n",
              "    </tr>\n",
              "    <tr>\n",
              "      <th>8950</th>\n",
              "      <td>김지연</td>\n",
              "      <td>wldusk77</td>\n",
              "      <td>회원</td>\n",
              "      <td>FAMILY</td>\n",
              "      <td>이너플로라 여성질유산균 (60일분)</td>\n",
              "      <td>1000000048</td>\n",
              "      <td>이너플로라</td>\n",
              "      <td>할인하길래 구매했어요ㅎㅎ 늘 먹던 제품이라 안심하고 계속 복용 중인데 공홈은 처음 ...</td>\n",
              "      <td>5</td>\n",
              "      <td>2023-02-06 22:51:21 +0900</td>\n",
              "    </tr>\n",
              "    <tr>\n",
              "      <th>8951</th>\n",
              "      <td>bitn****</td>\n",
              "      <td>NaN</td>\n",
              "      <td>비회원</td>\n",
              "      <td>미확인</td>\n",
              "      <td>이너플로라 여성질유산균 (30일분)</td>\n",
              "      <td>1000001122</td>\n",
              "      <td>이너플로라</td>\n",
              "      <td>구매전에 리뷰 꼼꼼히 읽어보고 구매했어요면역력 조금만 떨어지면 질염이 자꾸 생겨서 ...</td>\n",
              "      <td>5</td>\n",
              "      <td>2023-02-06 18:53:01 +0900</td>\n",
              "    </tr>\n",
              "    <tr>\n",
              "      <th>8952</th>\n",
              "      <td>lees****</td>\n",
              "      <td>NaN</td>\n",
              "      <td>비회원</td>\n",
              "      <td>미확인</td>\n",
              "      <td>이너플로라 여성질유산균 (60일분)</td>\n",
              "      <td>1000000048</td>\n",
              "      <td>이너플로라</td>\n",
              "      <td>매번 시키고있어요빠른배송감사합니다</td>\n",
              "      <td>5</td>\n",
              "      <td>2023-02-06 13:33:04 +0900</td>\n",
              "    </tr>\n",
              "    <tr>\n",
              "      <th>8953</th>\n",
              "      <td>soso****</td>\n",
              "      <td>NaN</td>\n",
              "      <td>비회원</td>\n",
              "      <td>미확인</td>\n",
              "      <td>[시크릿] 이너플로라 (30일분)</td>\n",
              "      <td>1000001131</td>\n",
              "      <td>이너플로라</td>\n",
              "      <td>유통기한은 짧지만 저렴하게 잘샀어요~</td>\n",
              "      <td>5</td>\n",
              "      <td>2023-02-06 12:48:06 +0900</td>\n",
              "    </tr>\n",
              "    <tr>\n",
              "      <th>8956</th>\n",
              "      <td>ghl7****</td>\n",
              "      <td>NaN</td>\n",
              "      <td>비회원</td>\n",
              "      <td>미확인</td>\n",
              "      <td>이너플로라 90일 세트(60일분+30일분)</td>\n",
              "      <td>1000000220</td>\n",
              "      <td>이너플로라</td>\n",
              "      <td>나름 싸게 지만 임박상품이라 어쩔수없었던거같아요 효과는 나쁘지않은듯합니다</td>\n",
              "      <td>4</td>\n",
              "      <td>2023-02-06 11:18:07 +0900</td>\n",
              "    </tr>\n",
              "  </tbody>\n",
              "</table>\n",
              "<p>1726 rows × 10 columns</p>\n",
              "</div>\n",
              "      <button class=\"colab-df-convert\" onclick=\"convertToInteractive('df-0b562195-5668-47c5-8929-835f43ee1c7e')\"\n",
              "              title=\"Convert this dataframe to an interactive table.\"\n",
              "              style=\"display:none;\">\n",
              "        \n",
              "  <svg xmlns=\"http://www.w3.org/2000/svg\" height=\"24px\"viewBox=\"0 0 24 24\"\n",
              "       width=\"24px\">\n",
              "    <path d=\"M0 0h24v24H0V0z\" fill=\"none\"/>\n",
              "    <path d=\"M18.56 5.44l.94 2.06.94-2.06 2.06-.94-2.06-.94-.94-2.06-.94 2.06-2.06.94zm-11 1L8.5 8.5l.94-2.06 2.06-.94-2.06-.94L8.5 2.5l-.94 2.06-2.06.94zm10 10l.94 2.06.94-2.06 2.06-.94-2.06-.94-.94-2.06-.94 2.06-2.06.94z\"/><path d=\"M17.41 7.96l-1.37-1.37c-.4-.4-.92-.59-1.43-.59-.52 0-1.04.2-1.43.59L10.3 9.45l-7.72 7.72c-.78.78-.78 2.05 0 2.83L4 21.41c.39.39.9.59 1.41.59.51 0 1.02-.2 1.41-.59l7.78-7.78 2.81-2.81c.8-.78.8-2.07 0-2.86zM5.41 20L4 18.59l7.72-7.72 1.47 1.35L5.41 20z\"/>\n",
              "  </svg>\n",
              "      </button>\n",
              "      \n",
              "  <style>\n",
              "    .colab-df-container {\n",
              "      display:flex;\n",
              "      flex-wrap:wrap;\n",
              "      gap: 12px;\n",
              "    }\n",
              "\n",
              "    .colab-df-convert {\n",
              "      background-color: #E8F0FE;\n",
              "      border: none;\n",
              "      border-radius: 50%;\n",
              "      cursor: pointer;\n",
              "      display: none;\n",
              "      fill: #1967D2;\n",
              "      height: 32px;\n",
              "      padding: 0 0 0 0;\n",
              "      width: 32px;\n",
              "    }\n",
              "\n",
              "    .colab-df-convert:hover {\n",
              "      background-color: #E2EBFA;\n",
              "      box-shadow: 0px 1px 2px rgba(60, 64, 67, 0.3), 0px 1px 3px 1px rgba(60, 64, 67, 0.15);\n",
              "      fill: #174EA6;\n",
              "    }\n",
              "\n",
              "    [theme=dark] .colab-df-convert {\n",
              "      background-color: #3B4455;\n",
              "      fill: #D2E3FC;\n",
              "    }\n",
              "\n",
              "    [theme=dark] .colab-df-convert:hover {\n",
              "      background-color: #434B5C;\n",
              "      box-shadow: 0px 1px 3px 1px rgba(0, 0, 0, 0.15);\n",
              "      filter: drop-shadow(0px 1px 2px rgba(0, 0, 0, 0.3));\n",
              "      fill: #FFFFFF;\n",
              "    }\n",
              "  </style>\n",
              "\n",
              "      <script>\n",
              "        const buttonEl =\n",
              "          document.querySelector('#df-0b562195-5668-47c5-8929-835f43ee1c7e button.colab-df-convert');\n",
              "        buttonEl.style.display =\n",
              "          google.colab.kernel.accessAllowed ? 'block' : 'none';\n",
              "\n",
              "        async function convertToInteractive(key) {\n",
              "          const element = document.querySelector('#df-0b562195-5668-47c5-8929-835f43ee1c7e');\n",
              "          const dataTable =\n",
              "            await google.colab.kernel.invokeFunction('convertToInteractive',\n",
              "                                                     [key], {});\n",
              "          if (!dataTable) return;\n",
              "\n",
              "          const docLinkHtml = 'Like what you see? Visit the ' +\n",
              "            '<a target=\"_blank\" href=https://colab.research.google.com/notebooks/data_table.ipynb>data table notebook</a>'\n",
              "            + ' to learn more about interactive tables.';\n",
              "          element.innerHTML = '';\n",
              "          dataTable['output_type'] = 'display_data';\n",
              "          await google.colab.output.renderOutput(dataTable, element);\n",
              "          const docLink = document.createElement('div');\n",
              "          docLink.innerHTML = docLinkHtml;\n",
              "          element.appendChild(docLink);\n",
              "        }\n",
              "      </script>\n",
              "    </div>\n",
              "  </div>\n",
              "  "
            ]
          },
          "metadata": {},
          "execution_count": 13
        }
      ]
    },
    {
      "cell_type": "code",
      "source": [
        "df['REVIEWs'] = df['REVIEW'].str.replace(\"[^ㄱ-ㅎㅏ-ㅣ가-힣a-zA-Z0-9]\",\"\")"
      ],
      "metadata": {
        "id": "lTsRax7vaA-Q"
      },
      "execution_count": null,
      "outputs": []
    },
    {
      "cell_type": "code",
      "source": [
        "df2['REVIEWs'] = df2['REVIEW'].str.replace(\"[^ㄱ-ㅎㅏ-ㅣ가-힣a-zA-Z0-9]\",\"\")"
      ],
      "metadata": {
        "id": "Hju8NUy5PDVw"
      },
      "execution_count": null,
      "outputs": []
    },
    {
      "cell_type": "code",
      "source": [],
      "metadata": {
        "id": "CUAFx_YmPCA6"
      },
      "execution_count": null,
      "outputs": []
    },
    {
      "cell_type": "code",
      "source": [],
      "metadata": {
        "id": "QxjPeCAFcVJq"
      },
      "execution_count": null,
      "outputs": []
    },
    {
      "cell_type": "code",
      "source": [
        "df['Date']"
      ],
      "metadata": {
        "id": "sROl-kbDhhLI"
      },
      "execution_count": null,
      "outputs": []
    },
    {
      "cell_type": "markdown",
      "source": [
        "날짜컬럼변경"
      ],
      "metadata": {
        "id": "cYJC3NmFPPAx"
      }
    },
    {
      "cell_type": "code",
      "source": [
        "df['DateTime'] = pd.to_datetime(df['Date'])\n",
        "df['DateTime'].dt.year\n",
        "df['DateTime'].dt.month\n",
        "df['DateTime'].dt.day"
      ],
      "metadata": {
        "colab": {
          "base_uri": "https://localhost:8080/"
        },
        "id": "assbG7aFOKUi",
        "outputId": "5fe6a037-a4e7-4b05-f08b-970c2e40e895"
      },
      "execution_count": null,
      "outputs": [
        {
          "output_type": "execute_result",
          "data": {
            "text/plain": [
              "0       31\n",
              "1       31\n",
              "2       31\n",
              "3       30\n",
              "4       30\n",
              "        ..\n",
              "8958     6\n",
              "8959     6\n",
              "8960     7\n",
              "8961     7\n",
              "8962     7\n",
              "Name: DateTime, Length: 8960, dtype: int64"
            ]
          },
          "metadata": {},
          "execution_count": 69
        }
      ]
    },
    {
      "cell_type": "code",
      "source": [
        "df['DateTime'] = pd.to_datetime(df['Date'])\n",
        "df['DateTime'] =df['DateTime'].dt.date\n",
        "df['DateTime']"
      ],
      "metadata": {
        "colab": {
          "base_uri": "https://localhost:8080/"
        },
        "id": "wbdP4dhLOMSn",
        "outputId": "a29bebf1-5585-4ef8-cd88-be9cd88d946e"
      },
      "execution_count": null,
      "outputs": [
        {
          "output_type": "execute_result",
          "data": {
            "text/plain": [
              "0       2021-12-31\n",
              "1       2021-12-31\n",
              "2       2021-12-31\n",
              "3       2021-12-30\n",
              "4       2021-12-30\n",
              "           ...    \n",
              "8958    2023-02-06\n",
              "8959    2023-02-06\n",
              "8960    2023-02-07\n",
              "8961    2023-02-07\n",
              "8962    2023-02-07\n",
              "Name: DateTime, Length: 8960, dtype: object"
            ]
          },
          "metadata": {},
          "execution_count": 70
        }
      ]
    },
    {
      "cell_type": "code",
      "source": [
        "df['DateTime'] = pd.to_datetime(df['Date'])\n",
        "df['Year'] = df['DateTime'].dt.year\n",
        "df['Month'] = df['DateTime'].dt.month\n",
        "\n",
        "df.head()"
      ],
      "metadata": {
        "colab": {
          "base_uri": "https://localhost:8080/",
          "height": 684
        },
        "id": "E7jKpFV_PMKN",
        "outputId": "9833f9a1-21c4-46ba-ea9c-349bbfe8755a"
      },
      "execution_count": null,
      "outputs": [
        {
          "output_type": "execute_result",
          "data": {
            "text/plain": [
              "  user_name     user_id user_grade brand_user_grade  \\\n",
              "0       박종훈  dkzmepdlwl         회원              미확인   \n",
              "1       이영옥      yy6369         회원              미확인   \n",
              "2       이영옥      yy6369         회원              미확인   \n",
              "3       이지현  jihyun.lee         회원              미확인   \n",
              "4       이지현  jihyun.lee         회원              미확인   \n",
              "\n",
              "                   product_name product_code         CATE  \\\n",
              "0  a2 플래티넘® 분유(A2 단백질) 1단계 400g   1000000476  a2 플래티넘 1단계   \n",
              "1           에스트리션 백수오 더블 (30일분)   1000000469  에스트리션 백수오더블   \n",
              "2           에스트리션 백수오 더블 (30일분)   1000000469  에스트리션 백수오더블   \n",
              "3    [딜리버리] 뉴오리진 수제 그래놀라 바(초콜릿)   1000000701      Granola   \n",
              "4        [딜리버리] [포장] 파운드 기프트 박스   1000000798      Dessert   \n",
              "\n",
              "                                              REVIEW SCORE  \\\n",
              "0                      둘째도 A2 시작합니다. 첫째처럼 잘맞았으면 좋겠네요     5   \n",
              "1                       뼈건강에도  도움이 된다해서 열심히 챙겨먹고 있어요     5   \n",
              "2                                 맛도좋고  건강해지는  느낌입니다     5   \n",
              "3  정말 건강하게 맛있어요!! 아침마다 하나씩 들고 나가서 아침 대용으로 든든하게 좋아요!!     5   \n",
              "4  크리스마스 선물로 지인들에게 보내기 좋았어요!! 파운드 케이크 너무 맛있고 촉촉해요...     5   \n",
              "\n",
              "                        Date  \\\n",
              "0  2021-12-31 07:59:04 +0900   \n",
              "1  2021-12-31 00:23:08 +0900   \n",
              "2  2021-12-31 00:21:31 +0900   \n",
              "3  2021-12-30 22:24:07 +0900   \n",
              "4  2021-12-30 22:21:08 +0900   \n",
              "\n",
              "                                             REVIEWs  \\\n",
              "0                            둘째도A2시작합니다첫째처럼잘맞았으면좋겠네요   \n",
              "1                             뼈건강에도도움이된다해서열심히챙겨먹고있어요   \n",
              "2                                     맛도좋고건강해지는느낌입니다   \n",
              "3                정말건강하게맛있어요아침마다하나씩들고나가서아침대용으로든든하게좋아요   \n",
              "4  크리스마스선물로지인들에게보내기좋았어요파운드케이크너무맛있고촉촉해요치즈파운드케이크는치즈...   \n",
              "\n",
              "                   DateTime  Year  Month  \n",
              "0 2021-12-31 07:59:04+09:00  2021     12  \n",
              "1 2021-12-31 00:23:08+09:00  2021     12  \n",
              "2 2021-12-31 00:21:31+09:00  2021     12  \n",
              "3 2021-12-30 22:24:07+09:00  2021     12  \n",
              "4 2021-12-30 22:21:08+09:00  2021     12  "
            ],
            "text/html": [
              "\n",
              "  <div id=\"df-84573a80-9ecf-4e75-95cf-5d406344de43\">\n",
              "    <div class=\"colab-df-container\">\n",
              "      <div>\n",
              "<style scoped>\n",
              "    .dataframe tbody tr th:only-of-type {\n",
              "        vertical-align: middle;\n",
              "    }\n",
              "\n",
              "    .dataframe tbody tr th {\n",
              "        vertical-align: top;\n",
              "    }\n",
              "\n",
              "    .dataframe thead th {\n",
              "        text-align: right;\n",
              "    }\n",
              "</style>\n",
              "<table border=\"1\" class=\"dataframe\">\n",
              "  <thead>\n",
              "    <tr style=\"text-align: right;\">\n",
              "      <th></th>\n",
              "      <th>user_name</th>\n",
              "      <th>user_id</th>\n",
              "      <th>user_grade</th>\n",
              "      <th>brand_user_grade</th>\n",
              "      <th>product_name</th>\n",
              "      <th>product_code</th>\n",
              "      <th>CATE</th>\n",
              "      <th>REVIEW</th>\n",
              "      <th>SCORE</th>\n",
              "      <th>Date</th>\n",
              "      <th>REVIEWs</th>\n",
              "      <th>DateTime</th>\n",
              "      <th>Year</th>\n",
              "      <th>Month</th>\n",
              "    </tr>\n",
              "  </thead>\n",
              "  <tbody>\n",
              "    <tr>\n",
              "      <th>0</th>\n",
              "      <td>박종훈</td>\n",
              "      <td>dkzmepdlwl</td>\n",
              "      <td>회원</td>\n",
              "      <td>미확인</td>\n",
              "      <td>a2 플래티넘® 분유(A2 단백질) 1단계 400g</td>\n",
              "      <td>1000000476</td>\n",
              "      <td>a2 플래티넘 1단계</td>\n",
              "      <td>둘째도 A2 시작합니다. 첫째처럼 잘맞았으면 좋겠네요</td>\n",
              "      <td>5</td>\n",
              "      <td>2021-12-31 07:59:04 +0900</td>\n",
              "      <td>둘째도A2시작합니다첫째처럼잘맞았으면좋겠네요</td>\n",
              "      <td>2021-12-31 07:59:04+09:00</td>\n",
              "      <td>2021</td>\n",
              "      <td>12</td>\n",
              "    </tr>\n",
              "    <tr>\n",
              "      <th>1</th>\n",
              "      <td>이영옥</td>\n",
              "      <td>yy6369</td>\n",
              "      <td>회원</td>\n",
              "      <td>미확인</td>\n",
              "      <td>에스트리션 백수오 더블 (30일분)</td>\n",
              "      <td>1000000469</td>\n",
              "      <td>에스트리션 백수오더블</td>\n",
              "      <td>뼈건강에도  도움이 된다해서 열심히 챙겨먹고 있어요</td>\n",
              "      <td>5</td>\n",
              "      <td>2021-12-31 00:23:08 +0900</td>\n",
              "      <td>뼈건강에도도움이된다해서열심히챙겨먹고있어요</td>\n",
              "      <td>2021-12-31 00:23:08+09:00</td>\n",
              "      <td>2021</td>\n",
              "      <td>12</td>\n",
              "    </tr>\n",
              "    <tr>\n",
              "      <th>2</th>\n",
              "      <td>이영옥</td>\n",
              "      <td>yy6369</td>\n",
              "      <td>회원</td>\n",
              "      <td>미확인</td>\n",
              "      <td>에스트리션 백수오 더블 (30일분)</td>\n",
              "      <td>1000000469</td>\n",
              "      <td>에스트리션 백수오더블</td>\n",
              "      <td>맛도좋고  건강해지는  느낌입니다</td>\n",
              "      <td>5</td>\n",
              "      <td>2021-12-31 00:21:31 +0900</td>\n",
              "      <td>맛도좋고건강해지는느낌입니다</td>\n",
              "      <td>2021-12-31 00:21:31+09:00</td>\n",
              "      <td>2021</td>\n",
              "      <td>12</td>\n",
              "    </tr>\n",
              "    <tr>\n",
              "      <th>3</th>\n",
              "      <td>이지현</td>\n",
              "      <td>jihyun.lee</td>\n",
              "      <td>회원</td>\n",
              "      <td>미확인</td>\n",
              "      <td>[딜리버리] 뉴오리진 수제 그래놀라 바(초콜릿)</td>\n",
              "      <td>1000000701</td>\n",
              "      <td>Granola</td>\n",
              "      <td>정말 건강하게 맛있어요!! 아침마다 하나씩 들고 나가서 아침 대용으로 든든하게 좋아요!!</td>\n",
              "      <td>5</td>\n",
              "      <td>2021-12-30 22:24:07 +0900</td>\n",
              "      <td>정말건강하게맛있어요아침마다하나씩들고나가서아침대용으로든든하게좋아요</td>\n",
              "      <td>2021-12-30 22:24:07+09:00</td>\n",
              "      <td>2021</td>\n",
              "      <td>12</td>\n",
              "    </tr>\n",
              "    <tr>\n",
              "      <th>4</th>\n",
              "      <td>이지현</td>\n",
              "      <td>jihyun.lee</td>\n",
              "      <td>회원</td>\n",
              "      <td>미확인</td>\n",
              "      <td>[딜리버리] [포장] 파운드 기프트 박스</td>\n",
              "      <td>1000000798</td>\n",
              "      <td>Dessert</td>\n",
              "      <td>크리스마스 선물로 지인들에게 보내기 좋았어요!! 파운드 케이크 너무 맛있고 촉촉해요...</td>\n",
              "      <td>5</td>\n",
              "      <td>2021-12-30 22:21:08 +0900</td>\n",
              "      <td>크리스마스선물로지인들에게보내기좋았어요파운드케이크너무맛있고촉촉해요치즈파운드케이크는치즈...</td>\n",
              "      <td>2021-12-30 22:21:08+09:00</td>\n",
              "      <td>2021</td>\n",
              "      <td>12</td>\n",
              "    </tr>\n",
              "  </tbody>\n",
              "</table>\n",
              "</div>\n",
              "      <button class=\"colab-df-convert\" onclick=\"convertToInteractive('df-84573a80-9ecf-4e75-95cf-5d406344de43')\"\n",
              "              title=\"Convert this dataframe to an interactive table.\"\n",
              "              style=\"display:none;\">\n",
              "        \n",
              "  <svg xmlns=\"http://www.w3.org/2000/svg\" height=\"24px\"viewBox=\"0 0 24 24\"\n",
              "       width=\"24px\">\n",
              "    <path d=\"M0 0h24v24H0V0z\" fill=\"none\"/>\n",
              "    <path d=\"M18.56 5.44l.94 2.06.94-2.06 2.06-.94-2.06-.94-.94-2.06-.94 2.06-2.06.94zm-11 1L8.5 8.5l.94-2.06 2.06-.94-2.06-.94L8.5 2.5l-.94 2.06-2.06.94zm10 10l.94 2.06.94-2.06 2.06-.94-2.06-.94-.94-2.06-.94 2.06-2.06.94z\"/><path d=\"M17.41 7.96l-1.37-1.37c-.4-.4-.92-.59-1.43-.59-.52 0-1.04.2-1.43.59L10.3 9.45l-7.72 7.72c-.78.78-.78 2.05 0 2.83L4 21.41c.39.39.9.59 1.41.59.51 0 1.02-.2 1.41-.59l7.78-7.78 2.81-2.81c.8-.78.8-2.07 0-2.86zM5.41 20L4 18.59l7.72-7.72 1.47 1.35L5.41 20z\"/>\n",
              "  </svg>\n",
              "      </button>\n",
              "      \n",
              "  <style>\n",
              "    .colab-df-container {\n",
              "      display:flex;\n",
              "      flex-wrap:wrap;\n",
              "      gap: 12px;\n",
              "    }\n",
              "\n",
              "    .colab-df-convert {\n",
              "      background-color: #E8F0FE;\n",
              "      border: none;\n",
              "      border-radius: 50%;\n",
              "      cursor: pointer;\n",
              "      display: none;\n",
              "      fill: #1967D2;\n",
              "      height: 32px;\n",
              "      padding: 0 0 0 0;\n",
              "      width: 32px;\n",
              "    }\n",
              "\n",
              "    .colab-df-convert:hover {\n",
              "      background-color: #E2EBFA;\n",
              "      box-shadow: 0px 1px 2px rgba(60, 64, 67, 0.3), 0px 1px 3px 1px rgba(60, 64, 67, 0.15);\n",
              "      fill: #174EA6;\n",
              "    }\n",
              "\n",
              "    [theme=dark] .colab-df-convert {\n",
              "      background-color: #3B4455;\n",
              "      fill: #D2E3FC;\n",
              "    }\n",
              "\n",
              "    [theme=dark] .colab-df-convert:hover {\n",
              "      background-color: #434B5C;\n",
              "      box-shadow: 0px 1px 3px 1px rgba(0, 0, 0, 0.15);\n",
              "      filter: drop-shadow(0px 1px 2px rgba(0, 0, 0, 0.3));\n",
              "      fill: #FFFFFF;\n",
              "    }\n",
              "  </style>\n",
              "\n",
              "      <script>\n",
              "        const buttonEl =\n",
              "          document.querySelector('#df-84573a80-9ecf-4e75-95cf-5d406344de43 button.colab-df-convert');\n",
              "        buttonEl.style.display =\n",
              "          google.colab.kernel.accessAllowed ? 'block' : 'none';\n",
              "\n",
              "        async function convertToInteractive(key) {\n",
              "          const element = document.querySelector('#df-84573a80-9ecf-4e75-95cf-5d406344de43');\n",
              "          const dataTable =\n",
              "            await google.colab.kernel.invokeFunction('convertToInteractive',\n",
              "                                                     [key], {});\n",
              "          if (!dataTable) return;\n",
              "\n",
              "          const docLinkHtml = 'Like what you see? Visit the ' +\n",
              "            '<a target=\"_blank\" href=https://colab.research.google.com/notebooks/data_table.ipynb>data table notebook</a>'\n",
              "            + ' to learn more about interactive tables.';\n",
              "          element.innerHTML = '';\n",
              "          dataTable['output_type'] = 'display_data';\n",
              "          await google.colab.output.renderOutput(dataTable, element);\n",
              "          const docLink = document.createElement('div');\n",
              "          docLink.innerHTML = docLinkHtml;\n",
              "          element.appendChild(docLink);\n",
              "        }\n",
              "      </script>\n",
              "    </div>\n",
              "  </div>\n",
              "  "
            ]
          },
          "metadata": {},
          "execution_count": 71
        }
      ]
    },
    {
      "cell_type": "code",
      "source": [
        "#데이터형확인\n",
        "df.dtypes"
      ],
      "metadata": {
        "colab": {
          "base_uri": "https://localhost:8080/"
        },
        "id": "c4KAP6fgPVZV",
        "outputId": "cb2def55-eafc-448b-917d-71d20dccc85f"
      },
      "execution_count": null,
      "outputs": [
        {
          "output_type": "execute_result",
          "data": {
            "text/plain": [
              "user_name                                          object\n",
              "user_id                                            object\n",
              "user_grade                                         object\n",
              "brand_user_grade                                   object\n",
              "product_name                                       object\n",
              "product_code                                       object\n",
              "CATE                                               object\n",
              "REVIEW                                             object\n",
              "SCORE                                              object\n",
              "Date                                               object\n",
              "REVIEWs                                            object\n",
              "DateTime            datetime64[ns, pytz.FixedOffset(540)]\n",
              "Year                                                int64\n",
              "Month                                               int64\n",
              "dtype: object"
            ]
          },
          "metadata": {},
          "execution_count": 72
        }
      ]
    },
    {
      "cell_type": "code",
      "source": [
        "#월별 리뷰뷰 갯수 확인 및 시각화\n",
        "df1=df.groupby('CATE')['REVIEW'].count()\n",
        "#df1=df.groupby('Month')['REVIEW'].count()\n",
        "\n",
        "df1=pd.DataFrame({'count':df1})\n",
        "\n",
        "df1=df1.sort_values('count',ascending=False).head(10)\n",
        "df1.reset_index(inplace=True)\n",
        "\n",
        "ax = plt.subplot()\n",
        "plt.bar(range(len(df1)),\n",
        "        df1[\"count\"])\n",
        "ax.set_xticks(range(len(df1)))\n",
        "ax.set_xticklabels(df1.CATE)\n",
        "plt.xlabel(\"CATE\")\n",
        "plt.ylabel(\"REVIEW\")\n",
        "plt.show()"
      ],
      "metadata": {
        "colab": {
          "base_uri": "https://localhost:8080/",
          "height": 449
        },
        "id": "XMZtNO0ZPkea",
        "outputId": "556a0bbb-de36-45e0-9496-a016ad77b165"
      },
      "execution_count": null,
      "outputs": [
        {
          "output_type": "display_data",
          "data": {
            "text/plain": [
              "<Figure size 640x480 with 1 Axes>"
            ],
            "image/png": "[encoded data removed]"
          },
          "metadata": {}
        }
      ]
    },
    {
      "cell_type": "code",
      "source": [
        "#월별 리뷰뷰 갯수 확인 및 시각화\n",
        "df1=df.groupby('CATE')['REVIEW'].count()\n",
        "#df1=df.groupby('Month')['REVIEW'].count()\n",
        "\n",
        "df1=pd.DataFrame({'count':df1})\n",
        "\n",
        "df1=df1.sort_values('count',ascending=False).head(10)\n",
        "df1.reset_index(inplace=True)\n",
        "df1\n"
      ],
      "metadata": {
        "colab": {
          "base_uri": "https://localhost:8080/",
          "height": 363
        },
        "id": "Lf4zuwd27yeK",
        "outputId": "bd059dc4-9557-466d-946d-9422dd5f8a42"
      },
      "execution_count": null,
      "outputs": [
        {
          "output_type": "execute_result",
          "data": {
            "text/plain": [
              "          CATE  count\n",
              "0        이너플로라   1688\n",
              "1  a2 플래티넘 1단계   1558\n",
              "2  a2 플래티넘 2단계    649\n",
              "3       a2우유1L    565\n",
              "4    a2우유200ml    496\n",
              "5          프로틴    431\n",
              "6     에스트리션 퓨어    153\n",
              "7    에스트리션 올인원    149\n",
              "8       비건오메가3    144\n",
              "9  a2 플래티넘 3단계    144"
            ],
            "text/html": [
              "\n",
              "  <div id=\"df-272a1d9a-840e-4dcd-ac96-437e712ff024\">\n",
              "    <div class=\"colab-df-container\">\n",
              "      <div>\n",
              "<style scoped>\n",
              "    .dataframe tbody tr th:only-of-type {\n",
              "        vertical-align: middle;\n",
              "    }\n",
              "\n",
              "    .dataframe tbody tr th {\n",
              "        vertical-align: top;\n",
              "    }\n",
              "\n",
              "    .dataframe thead th {\n",
              "        text-align: right;\n",
              "    }\n",
              "</style>\n",
              "<table border=\"1\" class=\"dataframe\">\n",
              "  <thead>\n",
              "    <tr style=\"text-align: right;\">\n",
              "      <th></th>\n",
              "      <th>CATE</th>\n",
              "      <th>count</th>\n",
              "    </tr>\n",
              "  </thead>\n",
              "  <tbody>\n",
              "    <tr>\n",
              "      <th>0</th>\n",
              "      <td>이너플로라</td>\n",
              "      <td>1688</td>\n",
              "    </tr>\n",
              "    <tr>\n",
              "      <th>1</th>\n",
              "      <td>a2 플래티넘 1단계</td>\n",
              "      <td>1558</td>\n",
              "    </tr>\n",
              "    <tr>\n",
              "      <th>2</th>\n",
              "      <td>a2 플래티넘 2단계</td>\n",
              "      <td>649</td>\n",
              "    </tr>\n",
              "    <tr>\n",
              "      <th>3</th>\n",
              "      <td>a2우유1L</td>\n",
              "      <td>565</td>\n",
              "    </tr>\n",
              "    <tr>\n",
              "      <th>4</th>\n",
              "      <td>a2우유200ml</td>\n",
              "      <td>496</td>\n",
              "    </tr>\n",
              "    <tr>\n",
              "      <th>5</th>\n",
              "      <td>프로틴</td>\n",
              "      <td>431</td>\n",
              "    </tr>\n",
              "    <tr>\n",
              "      <th>6</th>\n",
              "      <td>에스트리션 퓨어</td>\n",
              "      <td>153</td>\n",
              "    </tr>\n",
              "    <tr>\n",
              "      <th>7</th>\n",
              "      <td>에스트리션 올인원</td>\n",
              "      <td>149</td>\n",
              "    </tr>\n",
              "    <tr>\n",
              "      <th>8</th>\n",
              "      <td>비건오메가3</td>\n",
              "      <td>144</td>\n",
              "    </tr>\n",
              "    <tr>\n",
              "      <th>9</th>\n",
              "      <td>a2 플래티넘 3단계</td>\n",
              "      <td>144</td>\n",
              "    </tr>\n",
              "  </tbody>\n",
              "</table>\n",
              "</div>\n",
              "      <button class=\"colab-df-convert\" onclick=\"convertToInteractive('df-272a1d9a-840e-4dcd-ac96-437e712ff024')\"\n",
              "              title=\"Convert this dataframe to an interactive table.\"\n",
              "              style=\"display:none;\">\n",
              "        \n",
              "  <svg xmlns=\"http://www.w3.org/2000/svg\" height=\"24px\"viewBox=\"0 0 24 24\"\n",
              "       width=\"24px\">\n",
              "    <path d=\"M0 0h24v24H0V0z\" fill=\"none\"/>\n",
              "    <path d=\"M18.56 5.44l.94 2.06.94-2.06 2.06-.94-2.06-.94-.94-2.06-.94 2.06-2.06.94zm-11 1L8.5 8.5l.94-2.06 2.06-.94-2.06-.94L8.5 2.5l-.94 2.06-2.06.94zm10 10l.94 2.06.94-2.06 2.06-.94-2.06-.94-.94-2.06-.94 2.06-2.06.94z\"/><path d=\"M17.41 7.96l-1.37-1.37c-.4-.4-.92-.59-1.43-.59-.52 0-1.04.2-1.43.59L10.3 9.45l-7.72 7.72c-.78.78-.78 2.05 0 2.83L4 21.41c.39.39.9.59 1.41.59.51 0 1.02-.2 1.41-.59l7.78-7.78 2.81-2.81c.8-.78.8-2.07 0-2.86zM5.41 20L4 18.59l7.72-7.72 1.47 1.35L5.41 20z\"/>\n",
              "  </svg>\n",
              "      </button>\n",
              "      \n",
              "  <style>\n",
              "    .colab-df-container {\n",
              "      display:flex;\n",
              "      flex-wrap:wrap;\n",
              "      gap: 12px;\n",
              "    }\n",
              "\n",
              "    .colab-df-convert {\n",
              "      background-color: #E8F0FE;\n",
              "      border: none;\n",
              "      border-radius: 50%;\n",
              "      cursor: pointer;\n",
              "      display: none;\n",
              "      fill: #1967D2;\n",
              "      height: 32px;\n",
              "      padding: 0 0 0 0;\n",
              "      width: 32px;\n",
              "    }\n",
              "\n",
              "    .colab-df-convert:hover {\n",
              "      background-color: #E2EBFA;\n",
              "      box-shadow: 0px 1px 2px rgba(60, 64, 67, 0.3), 0px 1px 3px 1px rgba(60, 64, 67, 0.15);\n",
              "      fill: #174EA6;\n",
              "    }\n",
              "\n",
              "    [theme=dark] .colab-df-convert {\n",
              "      background-color: #3B4455;\n",
              "      fill: #D2E3FC;\n",
              "    }\n",
              "\n",
              "    [theme=dark] .colab-df-convert:hover {\n",
              "      background-color: #434B5C;\n",
              "      box-shadow: 0px 1px 3px 1px rgba(0, 0, 0, 0.15);\n",
              "      filter: drop-shadow(0px 1px 2px rgba(0, 0, 0, 0.3));\n",
              "      fill: #FFFFFF;\n",
              "    }\n",
              "  </style>\n",
              "\n",
              "      <script>\n",
              "        const buttonEl =\n",
              "          document.querySelector('#df-272a1d9a-840e-4dcd-ac96-437e712ff024 button.colab-df-convert');\n",
              "        buttonEl.style.display =\n",
              "          google.colab.kernel.accessAllowed ? 'block' : 'none';\n",
              "\n",
              "        async function convertToInteractive(key) {\n",
              "          const element = document.querySelector('#df-272a1d9a-840e-4dcd-ac96-437e712ff024');\n",
              "          const dataTable =\n",
              "            await google.colab.kernel.invokeFunction('convertToInteractive',\n",
              "                                                     [key], {});\n",
              "          if (!dataTable) return;\n",
              "\n",
              "          const docLinkHtml = 'Like what you see? Visit the ' +\n",
              "            '<a target=\"_blank\" href=https://colab.research.google.com/notebooks/data_table.ipynb>data table notebook</a>'\n",
              "            + ' to learn more about interactive tables.';\n",
              "          element.innerHTML = '';\n",
              "          dataTable['output_type'] = 'display_data';\n",
              "          await google.colab.output.renderOutput(dataTable, element);\n",
              "          const docLink = document.createElement('div');\n",
              "          docLink.innerHTML = docLinkHtml;\n",
              "          element.appendChild(docLink);\n",
              "        }\n",
              "      </script>\n",
              "    </div>\n",
              "  </div>\n",
              "  "
            ]
          },
          "metadata": {},
          "execution_count": 166
        }
      ]
    },
    {
      "cell_type": "code",
      "source": [
        "sns.barplot(data=df1, x=\"count\", y=\"CATE\")\n",
        "plt.show()"
      ],
      "metadata": {
        "colab": {
          "base_uri": "https://localhost:8080/",
          "height": 449
        },
        "id": "34p-QjDp7qjh",
        "outputId": "3e87b77e-a5b1-453c-eb57-8a96c145eace"
      },
      "execution_count": null,
      "outputs": [
        {
          "output_type": "display_data",
          "data": {
            "text/plain": [
              "<Figure size 640x480 with 1 Axes>"
            ],
            "image/png": "[encoded data removed]"
          },
          "metadata": {}
        }
      ]
    },
    {
      "cell_type": "code",
      "source": [
        "df1['CATE']"
      ],
      "metadata": {
        "colab": {
          "base_uri": "https://localhost:8080/",
          "height": 526
        },
        "id": "lKe9GOqD7NHJ",
        "outputId": "f98665ed-4077-47bc-f380-0efb59a96109"
      },
      "execution_count": null,
      "outputs": [
        {
          "output_type": "error",
          "ename": "KeyError",
          "evalue": "ignored",
          "traceback": [
            "\u001b[0;31m---------------------------------------------------------------------------\u001b[0m",
            "\u001b[0;31mKeyError\u001b[0m                                  Traceback (most recent call last)",
            "\u001b[0;32m/usr/local/lib/python3.9/dist-packages/pandas/core/indexes/base.py\u001b[0m in \u001b[0;36mget_loc\u001b[0;34m(self, key, method, tolerance)\u001b[0m\n\u001b[1;32m   3801\u001b[0m             \u001b[0;32mtry\u001b[0m\u001b[0;34m:\u001b[0m\u001b[0;34m\u001b[0m\u001b[0;34m\u001b[0m\u001b[0m\n\u001b[0;32m-> 3802\u001b[0;31m                 \u001b[0;32mreturn\u001b[0m \u001b[0mself\u001b[0m\u001b[0;34m.\u001b[0m\u001b[0m_engine\u001b[0m\u001b[0;34m.\u001b[0m\u001b[0mget_loc\u001b[0m\u001b[0;34m(\u001b[0m\u001b[0mcasted_key\u001b[0m\u001b[0;34m)\u001b[0m\u001b[0;34m\u001b[0m\u001b[0;34m\u001b[0m\u001b[0m\n\u001b[0m\u001b[1;32m   3803\u001b[0m             \u001b[0;32mexcept\u001b[0m \u001b[0mKeyError\u001b[0m \u001b[0;32mas\u001b[0m \u001b[0merr\u001b[0m\u001b[0;34m:\u001b[0m\u001b[0;34m\u001b[0m\u001b[0;34m\u001b[0m\u001b[0m\n",
            "\u001b[0;32m/usr/local/lib/python3.9/dist-packages/pandas/_libs/index.pyx\u001b[0m in \u001b[0;36mpandas._libs.index.IndexEngine.get_loc\u001b[0;34m()\u001b[0m\n",
            "\u001b[0;32m/usr/local/lib/python3.9/dist-packages/pandas/_libs/index.pyx\u001b[0m in \u001b[0;36mpandas._libs.index.IndexEngine.get_loc\u001b[0;34m()\u001b[0m\n",
            "\u001b[0;32mpandas/_libs/hashtable_class_helper.pxi\u001b[0m in \u001b[0;36mpandas._libs.hashtable.PyObjectHashTable.get_item\u001b[0;34m()\u001b[0m\n",
            "\u001b[0;32mpandas/_libs/hashtable_class_helper.pxi\u001b[0m in \u001b[0;36mpandas._libs.hashtable.PyObjectHashTable.get_item\u001b[0;34m()\u001b[0m\n",
            "\u001b[0;31mKeyError\u001b[0m: 'CATE'",
            "\nThe above exception was the direct cause of the following exception:\n",
            "\u001b[0;31mKeyError\u001b[0m                                  Traceback (most recent call last)",
            "\u001b[0;32m<ipython-input-160-70246a15ad12>\u001b[0m in \u001b[0;36m<cell line: 1>\u001b[0;34m()\u001b[0m\n\u001b[0;32m----> 1\u001b[0;31m \u001b[0mdf1\u001b[0m\u001b[0;34m[\u001b[0m\u001b[0;34m'CATE'\u001b[0m\u001b[0;34m]\u001b[0m\u001b[0;34m\u001b[0m\u001b[0;34m\u001b[0m\u001b[0m\n\u001b[0m",
            "\u001b[0;32m/usr/local/lib/python3.9/dist-packages/pandas/core/frame.py\u001b[0m in \u001b[0;36m__getitem__\u001b[0;34m(self, key)\u001b[0m\n\u001b[1;32m   3805\u001b[0m             \u001b[0;32mif\u001b[0m \u001b[0mself\u001b[0m\u001b[0;34m.\u001b[0m\u001b[0mcolumns\u001b[0m\u001b[0;34m.\u001b[0m\u001b[0mnlevels\u001b[0m \u001b[0;34m>\u001b[0m \u001b[0;36m1\u001b[0m\u001b[0;34m:\u001b[0m\u001b[0;34m\u001b[0m\u001b[0;34m\u001b[0m\u001b[0m\n\u001b[1;32m   3806\u001b[0m                 \u001b[0;32mreturn\u001b[0m \u001b[0mself\u001b[0m\u001b[0;34m.\u001b[0m\u001b[0m_getitem_multilevel\u001b[0m\u001b[0;34m(\u001b[0m\u001b[0mkey\u001b[0m\u001b[0;34m)\u001b[0m\u001b[0;34m\u001b[0m\u001b[0;34m\u001b[0m\u001b[0m\n\u001b[0;32m-> 3807\u001b[0;31m             \u001b[0mindexer\u001b[0m \u001b[0;34m=\u001b[0m \u001b[0mself\u001b[0m\u001b[0;34m.\u001b[0m\u001b[0mcolumns\u001b[0m\u001b[0;34m.\u001b[0m\u001b[0mget_loc\u001b[0m\u001b[0;34m(\u001b[0m\u001b[0mkey\u001b[0m\u001b[0;34m)\u001b[0m\u001b[0;34m\u001b[0m\u001b[0;34m\u001b[0m\u001b[0m\n\u001b[0m\u001b[1;32m   3808\u001b[0m             \u001b[0;32mif\u001b[0m \u001b[0mis_integer\u001b[0m\u001b[0;34m(\u001b[0m\u001b[0mindexer\u001b[0m\u001b[0;34m)\u001b[0m\u001b[0;34m:\u001b[0m\u001b[0;34m\u001b[0m\u001b[0;34m\u001b[0m\u001b[0m\n\u001b[1;32m   3809\u001b[0m                 \u001b[0mindexer\u001b[0m \u001b[0;34m=\u001b[0m \u001b[0;34m[\u001b[0m\u001b[0mindexer\u001b[0m\u001b[0;34m]\u001b[0m\u001b[0;34m\u001b[0m\u001b[0;34m\u001b[0m\u001b[0m\n",
            "\u001b[0;32m/usr/local/lib/python3.9/dist-packages/pandas/core/indexes/base.py\u001b[0m in \u001b[0;36mget_loc\u001b[0;34m(self, key, method, tolerance)\u001b[0m\n\u001b[1;32m   3802\u001b[0m                 \u001b[0;32mreturn\u001b[0m \u001b[0mself\u001b[0m\u001b[0;34m.\u001b[0m\u001b[0m_engine\u001b[0m\u001b[0;34m.\u001b[0m\u001b[0mget_loc\u001b[0m\u001b[0;34m(\u001b[0m\u001b[0mcasted_key\u001b[0m\u001b[0;34m)\u001b[0m\u001b[0;34m\u001b[0m\u001b[0;34m\u001b[0m\u001b[0m\n\u001b[1;32m   3803\u001b[0m             \u001b[0;32mexcept\u001b[0m \u001b[0mKeyError\u001b[0m \u001b[0;32mas\u001b[0m \u001b[0merr\u001b[0m\u001b[0;34m:\u001b[0m\u001b[0;34m\u001b[0m\u001b[0;34m\u001b[0m\u001b[0m\n\u001b[0;32m-> 3804\u001b[0;31m                 \u001b[0;32mraise\u001b[0m \u001b[0mKeyError\u001b[0m\u001b[0;34m(\u001b[0m\u001b[0mkey\u001b[0m\u001b[0;34m)\u001b[0m \u001b[0;32mfrom\u001b[0m \u001b[0merr\u001b[0m\u001b[0;34m\u001b[0m\u001b[0;34m\u001b[0m\u001b[0m\n\u001b[0m\u001b[1;32m   3805\u001b[0m             \u001b[0;32mexcept\u001b[0m \u001b[0mTypeError\u001b[0m\u001b[0;34m:\u001b[0m\u001b[0;34m\u001b[0m\u001b[0;34m\u001b[0m\u001b[0m\n\u001b[1;32m   3806\u001b[0m                 \u001b[0;31m# If we have a listlike key, _check_indexing_error will raise\u001b[0m\u001b[0;34m\u001b[0m\u001b[0;34m\u001b[0m\u001b[0m\n",
            "\u001b[0;31mKeyError\u001b[0m: 'CATE'"
          ]
        }
      ]
    },
    {
      "cell_type": "code",
      "source": [
        "sns.c"
      ],
      "metadata": {
        "id": "5BEAmqho6uej"
      },
      "execution_count": null,
      "outputs": []
    },
    {
      "cell_type": "code",
      "source": [
        "df.head()"
      ],
      "metadata": {
        "colab": {
          "base_uri": "https://localhost:8080/",
          "height": 1000
        },
        "id": "kcWFW52ihzpd",
        "outputId": "1c76ceb3-f587-4f23-a84c-1059d163ccaf"
      },
      "execution_count": null,
      "outputs": [
        {
          "output_type": "execute_result",
          "data": {
            "text/plain": [
              "     user_name     user_id user_grade   brand_user_grade  \\\n",
              "0          박종훈  dkzmepdlwl         회원                미확인   \n",
              "1          이영옥      yy6369         회원                미확인   \n",
              "2          이영옥      yy6369         회원                미확인   \n",
              "3          이지현  jihyun.lee         회원                미확인   \n",
              "4          이지현  jihyun.lee         회원                미확인   \n",
              "...        ...         ...        ...                ...   \n",
              "8958  hyde****         NaN        비회원                미확인   \n",
              "8959  i_ca****         NaN        비회원                미확인   \n",
              "8960       김기환   ghkssmzla         회원             FAMILY   \n",
              "8961       최경주      ckj321         회원  [유료]Mom&Baby Club   \n",
              "8962       최경주      ckj321         회원  [유료]Mom&Baby Club   \n",
              "\n",
              "                      product_name product_code         CATE  \\\n",
              "0     a2 플래티넘® 분유(A2 단백질) 1단계 400g   1000000476  a2 플래티넘 1단계   \n",
              "1              에스트리션 백수오 더블 (30일분)   1000000469  에스트리션 백수오더블   \n",
              "2              에스트리션 백수오 더블 (30일분)   1000000469  에스트리션 백수오더블   \n",
              "3       [딜리버리] 뉴오리진 수제 그래놀라 바(초콜릿)   1000000701      Granola   \n",
              "4           [딜리버리] [포장] 파운드 기프트 박스   1000000798      Dessert   \n",
              "...                            ...          ...          ...   \n",
              "8958      a2 플래티넘® 분유 2단계 900g 3개입   1000000425  a2 플래티넘 2단계   \n",
              "8959                 디어키즈스틱 (60일분)   1000000960       디어키즈스틱   \n",
              "8960       [일반] 뉴오리진 키즈오메가3 (60캡슐)   1000001105       키즈오메가3   \n",
              "8961          a2 플래티넘® 분유 2단계 900g   1000000236  a2 플래티넘 2단계   \n",
              "8962          a2 플래티넘® 분유 2단계 900g   1000000236  a2 플래티넘 2단계   \n",
              "\n",
              "                                                 REVIEW SCORE  \\\n",
              "0                         둘째도 A2 시작합니다. 첫째처럼 잘맞았으면 좋겠네요     5   \n",
              "1                          뼈건강에도  도움이 된다해서 열심히 챙겨먹고 있어요     5   \n",
              "2                                    맛도좋고  건강해지는  느낌입니다     5   \n",
              "3     정말 건강하게 맛있어요!! 아침마다 하나씩 들고 나가서 아침 대용으로 든든하게 좋아요!!     5   \n",
              "4     크리스마스 선물로 지인들에게 보내기 좋았어요!! 파운드 케이크 너무 맛있고 촉촉해요...     5   \n",
              "...                                                 ...   ...   \n",
              "8958                                  배송도 빠르고 아기가 잘 먹어요     5   \n",
              "8959                                세일해서 1+1 해서 너무 좋았어요     5   \n",
              "8960  아이가 9살인데도 다른 영양제를 맛이없단 이유로 먹질 않았어요ㅠ 근데 오리진 오메가...     5   \n",
              "8961                            믿고먹는 A2!! 항상 잘먹이고 있어요!!     5   \n",
              "8962                            A2분유 우리아이에게 열심히 먹이고있습니다     5   \n",
              "\n",
              "                           Date  \\\n",
              "0     2021-12-31 07:59:04 +0900   \n",
              "1     2021-12-31 00:23:08 +0900   \n",
              "2     2021-12-31 00:21:31 +0900   \n",
              "3     2021-12-30 22:24:07 +0900   \n",
              "4     2021-12-30 22:21:08 +0900   \n",
              "...                         ...   \n",
              "8958  2023-02-06 08:38:03 +0900   \n",
              "8959  2023-02-06 08:08:04 +0900   \n",
              "8960  2023-02-07 07:12:00 +0900   \n",
              "8961  2023-02-07 09:02:49 +0900   \n",
              "8962  2023-02-07 09:03:17 +0900   \n",
              "\n",
              "                                                REVIEWs  \\\n",
              "0                               둘째도A2시작합니다첫째처럼잘맞았으면좋겠네요   \n",
              "1                                뼈건강에도도움이된다해서열심히챙겨먹고있어요   \n",
              "2                                        맛도좋고건강해지는느낌입니다   \n",
              "3                   정말건강하게맛있어요아침마다하나씩들고나가서아침대용으로든든하게좋아요   \n",
              "4     크리스마스선물로지인들에게보내기좋았어요파운드케이크너무맛있고촉촉해요치즈파운드케이크는치즈...   \n",
              "...                                                 ...   \n",
              "8958                                      배송도빠르고아기가잘먹어요   \n",
              "8959                                     세일해서11해서너무좋았어요   \n",
              "8960  아이가9살인데도다른영양제를맛이없단이유로먹질않았어요ㅠ근데오리진오메가3는정말맛있다고잘먹...   \n",
              "8961                                    믿고먹는A2항상잘먹이고있어요   \n",
              "8962                               A2분유우리아이에게열심히먹이고있습니다   \n",
              "\n",
              "                      DateTime  Year  Month  \n",
              "0    2021-12-31 07:59:04+09:00  2021     12  \n",
              "1    2021-12-31 00:23:08+09:00  2021     12  \n",
              "2    2021-12-31 00:21:31+09:00  2021     12  \n",
              "3    2021-12-30 22:24:07+09:00  2021     12  \n",
              "4    2021-12-30 22:21:08+09:00  2021     12  \n",
              "...                        ...   ...    ...  \n",
              "8958 2023-02-06 08:38:03+09:00  2023      2  \n",
              "8959 2023-02-06 08:08:04+09:00  2023      2  \n",
              "8960 2023-02-07 07:12:00+09:00  2023      2  \n",
              "8961 2023-02-07 09:02:49+09:00  2023      2  \n",
              "8962 2023-02-07 09:03:17+09:00  2023      2  \n",
              "\n",
              "[8960 rows x 14 columns]"
            ],
            "text/html": [
              "\n",
              "  <div id=\"df-9af81621-77cc-4157-ab6e-3bb6c3ea2aa6\">\n",
              "    <div class=\"colab-df-container\">\n",
              "      <div>\n",
              "<style scoped>\n",
              "    .dataframe tbody tr th:only-of-type {\n",
              "        vertical-align: middle;\n",
              "    }\n",
              "\n",
              "    .dataframe tbody tr th {\n",
              "        vertical-align: top;\n",
              "    }\n",
              "\n",
              "    .dataframe thead th {\n",
              "        text-align: right;\n",
              "    }\n",
              "</style>\n",
              "<table border=\"1\" class=\"dataframe\">\n",
              "  <thead>\n",
              "    <tr style=\"text-align: right;\">\n",
              "      <th></th>\n",
              "      <th>user_name</th>\n",
              "      <th>user_id</th>\n",
              "      <th>user_grade</th>\n",
              "      <th>brand_user_grade</th>\n",
              "      <th>product_name</th>\n",
              "      <th>product_code</th>\n",
              "      <th>CATE</th>\n",
              "      <th>REVIEW</th>\n",
              "      <th>SCORE</th>\n",
              "      <th>Date</th>\n",
              "      <th>REVIEWs</th>\n",
              "      <th>DateTime</th>\n",
              "      <th>Year</th>\n",
              "      <th>Month</th>\n",
              "    </tr>\n",
              "  </thead>\n",
              "  <tbody>\n",
              "    <tr>\n",
              "      <th>0</th>\n",
              "      <td>박종훈</td>\n",
              "      <td>dkzmepdlwl</td>\n",
              "      <td>회원</td>\n",
              "      <td>미확인</td>\n",
              "      <td>a2 플래티넘® 분유(A2 단백질) 1단계 400g</td>\n",
              "      <td>1000000476</td>\n",
              "      <td>a2 플래티넘 1단계</td>\n",
              "      <td>둘째도 A2 시작합니다. 첫째처럼 잘맞았으면 좋겠네요</td>\n",
              "      <td>5</td>\n",
              "      <td>2021-12-31 07:59:04 +0900</td>\n",
              "      <td>둘째도A2시작합니다첫째처럼잘맞았으면좋겠네요</td>\n",
              "      <td>2021-12-31 07:59:04+09:00</td>\n",
              "      <td>2021</td>\n",
              "      <td>12</td>\n",
              "    </tr>\n",
              "    <tr>\n",
              "      <th>1</th>\n",
              "      <td>이영옥</td>\n",
              "      <td>yy6369</td>\n",
              "      <td>회원</td>\n",
              "      <td>미확인</td>\n",
              "      <td>에스트리션 백수오 더블 (30일분)</td>\n",
              "      <td>1000000469</td>\n",
              "      <td>에스트리션 백수오더블</td>\n",
              "      <td>뼈건강에도  도움이 된다해서 열심히 챙겨먹고 있어요</td>\n",
              "      <td>5</td>\n",
              "      <td>2021-12-31 00:23:08 +0900</td>\n",
              "      <td>뼈건강에도도움이된다해서열심히챙겨먹고있어요</td>\n",
              "      <td>2021-12-31 00:23:08+09:00</td>\n",
              "      <td>2021</td>\n",
              "      <td>12</td>\n",
              "    </tr>\n",
              "    <tr>\n",
              "      <th>2</th>\n",
              "      <td>이영옥</td>\n",
              "      <td>yy6369</td>\n",
              "      <td>회원</td>\n",
              "      <td>미확인</td>\n",
              "      <td>에스트리션 백수오 더블 (30일분)</td>\n",
              "      <td>1000000469</td>\n",
              "      <td>에스트리션 백수오더블</td>\n",
              "      <td>맛도좋고  건강해지는  느낌입니다</td>\n",
              "      <td>5</td>\n",
              "      <td>2021-12-31 00:21:31 +0900</td>\n",
              "      <td>맛도좋고건강해지는느낌입니다</td>\n",
              "      <td>2021-12-31 00:21:31+09:00</td>\n",
              "      <td>2021</td>\n",
              "      <td>12</td>\n",
              "    </tr>\n",
              "    <tr>\n",
              "      <th>3</th>\n",
              "      <td>이지현</td>\n",
              "      <td>jihyun.lee</td>\n",
              "      <td>회원</td>\n",
              "      <td>미확인</td>\n",
              "      <td>[딜리버리] 뉴오리진 수제 그래놀라 바(초콜릿)</td>\n",
              "      <td>1000000701</td>\n",
              "      <td>Granola</td>\n",
              "      <td>정말 건강하게 맛있어요!! 아침마다 하나씩 들고 나가서 아침 대용으로 든든하게 좋아요!!</td>\n",
              "      <td>5</td>\n",
              "      <td>2021-12-30 22:24:07 +0900</td>\n",
              "      <td>정말건강하게맛있어요아침마다하나씩들고나가서아침대용으로든든하게좋아요</td>\n",
              "      <td>2021-12-30 22:24:07+09:00</td>\n",
              "      <td>2021</td>\n",
              "      <td>12</td>\n",
              "    </tr>\n",
              "    <tr>\n",
              "      <th>4</th>\n",
              "      <td>이지현</td>\n",
              "      <td>jihyun.lee</td>\n",
              "      <td>회원</td>\n",
              "      <td>미확인</td>\n",
              "      <td>[딜리버리] [포장] 파운드 기프트 박스</td>\n",
              "      <td>1000000798</td>\n",
              "      <td>Dessert</td>\n",
              "      <td>크리스마스 선물로 지인들에게 보내기 좋았어요!! 파운드 케이크 너무 맛있고 촉촉해요...</td>\n",
              "      <td>5</td>\n",
              "      <td>2021-12-30 22:21:08 +0900</td>\n",
              "      <td>크리스마스선물로지인들에게보내기좋았어요파운드케이크너무맛있고촉촉해요치즈파운드케이크는치즈...</td>\n",
              "      <td>2021-12-30 22:21:08+09:00</td>\n",
              "      <td>2021</td>\n",
              "      <td>12</td>\n",
              "    </tr>\n",
              "    <tr>\n",
              "      <th>...</th>\n",
              "      <td>...</td>\n",
              "      <td>...</td>\n",
              "      <td>...</td>\n",
              "      <td>...</td>\n",
              "      <td>...</td>\n",
              "      <td>...</td>\n",
              "      <td>...</td>\n",
              "      <td>...</td>\n",
              "      <td>...</td>\n",
              "      <td>...</td>\n",
              "      <td>...</td>\n",
              "      <td>...</td>\n",
              "      <td>...</td>\n",
              "      <td>...</td>\n",
              "    </tr>\n",
              "    <tr>\n",
              "      <th>8958</th>\n",
              "      <td>hyde****</td>\n",
              "      <td>NaN</td>\n",
              "      <td>비회원</td>\n",
              "      <td>미확인</td>\n",
              "      <td>a2 플래티넘® 분유 2단계 900g 3개입</td>\n",
              "      <td>1000000425</td>\n",
              "      <td>a2 플래티넘 2단계</td>\n",
              "      <td>배송도 빠르고 아기가 잘 먹어요</td>\n",
              "      <td>5</td>\n",
              "      <td>2023-02-06 08:38:03 +0900</td>\n",
              "      <td>배송도빠르고아기가잘먹어요</td>\n",
              "      <td>2023-02-06 08:38:03+09:00</td>\n",
              "      <td>2023</td>\n",
              "      <td>2</td>\n",
              "    </tr>\n",
              "    <tr>\n",
              "      <th>8959</th>\n",
              "      <td>i_ca****</td>\n",
              "      <td>NaN</td>\n",
              "      <td>비회원</td>\n",
              "      <td>미확인</td>\n",
              "      <td>디어키즈스틱 (60일분)</td>\n",
              "      <td>1000000960</td>\n",
              "      <td>디어키즈스틱</td>\n",
              "      <td>세일해서 1+1 해서 너무 좋았어요</td>\n",
              "      <td>5</td>\n",
              "      <td>2023-02-06 08:08:04 +0900</td>\n",
              "      <td>세일해서11해서너무좋았어요</td>\n",
              "      <td>2023-02-06 08:08:04+09:00</td>\n",
              "      <td>2023</td>\n",
              "      <td>2</td>\n",
              "    </tr>\n",
              "    <tr>\n",
              "      <th>8960</th>\n",
              "      <td>김기환</td>\n",
              "      <td>ghkssmzla</td>\n",
              "      <td>회원</td>\n",
              "      <td>FAMILY</td>\n",
              "      <td>[일반] 뉴오리진 키즈오메가3 (60캡슐)</td>\n",
              "      <td>1000001105</td>\n",
              "      <td>키즈오메가3</td>\n",
              "      <td>아이가 9살인데도 다른 영양제를 맛이없단 이유로 먹질 않았어요ㅠ 근데 오리진 오메가...</td>\n",
              "      <td>5</td>\n",
              "      <td>2023-02-07 07:12:00 +0900</td>\n",
              "      <td>아이가9살인데도다른영양제를맛이없단이유로먹질않았어요ㅠ근데오리진오메가3는정말맛있다고잘먹...</td>\n",
              "      <td>2023-02-07 07:12:00+09:00</td>\n",
              "      <td>2023</td>\n",
              "      <td>2</td>\n",
              "    </tr>\n",
              "    <tr>\n",
              "      <th>8961</th>\n",
              "      <td>최경주</td>\n",
              "      <td>ckj321</td>\n",
              "      <td>회원</td>\n",
              "      <td>[유료]Mom&amp;Baby Club</td>\n",
              "      <td>a2 플래티넘® 분유 2단계 900g</td>\n",
              "      <td>1000000236</td>\n",
              "      <td>a2 플래티넘 2단계</td>\n",
              "      <td>믿고먹는 A2!! 항상 잘먹이고 있어요!!</td>\n",
              "      <td>5</td>\n",
              "      <td>2023-02-07 09:02:49 +0900</td>\n",
              "      <td>믿고먹는A2항상잘먹이고있어요</td>\n",
              "      <td>2023-02-07 09:02:49+09:00</td>\n",
              "      <td>2023</td>\n",
              "      <td>2</td>\n",
              "    </tr>\n",
              "    <tr>\n",
              "      <th>8962</th>\n",
              "      <td>최경주</td>\n",
              "      <td>ckj321</td>\n",
              "      <td>회원</td>\n",
              "      <td>[유료]Mom&amp;Baby Club</td>\n",
              "      <td>a2 플래티넘® 분유 2단계 900g</td>\n",
              "      <td>1000000236</td>\n",
              "      <td>a2 플래티넘 2단계</td>\n",
              "      <td>A2분유 우리아이에게 열심히 먹이고있습니다</td>\n",
              "      <td>5</td>\n",
              "      <td>2023-02-07 09:03:17 +0900</td>\n",
              "      <td>A2분유우리아이에게열심히먹이고있습니다</td>\n",
              "      <td>2023-02-07 09:03:17+09:00</td>\n",
              "      <td>2023</td>\n",
              "      <td>2</td>\n",
              "    </tr>\n",
              "  </tbody>\n",
              "</table>\n",
              "<p>8960 rows × 14 columns</p>\n",
              "</div>\n",
              "      <button class=\"colab-df-convert\" onclick=\"convertToInteractive('df-9af81621-77cc-4157-ab6e-3bb6c3ea2aa6')\"\n",
              "              title=\"Convert this dataframe to an interactive table.\"\n",
              "              style=\"display:none;\">\n",
              "        \n",
              "  <svg xmlns=\"http://www.w3.org/2000/svg\" height=\"24px\"viewBox=\"0 0 24 24\"\n",
              "       width=\"24px\">\n",
              "    <path d=\"M0 0h24v24H0V0z\" fill=\"none\"/>\n",
              "    <path d=\"M18.56 5.44l.94 2.06.94-2.06 2.06-.94-2.06-.94-.94-2.06-.94 2.06-2.06.94zm-11 1L8.5 8.5l.94-2.06 2.06-.94-2.06-.94L8.5 2.5l-.94 2.06-2.06.94zm10 10l.94 2.06.94-2.06 2.06-.94-2.06-.94-.94-2.06-.94 2.06-2.06.94z\"/><path d=\"M17.41 7.96l-1.37-1.37c-.4-.4-.92-.59-1.43-.59-.52 0-1.04.2-1.43.59L10.3 9.45l-7.72 7.72c-.78.78-.78 2.05 0 2.83L4 21.41c.39.39.9.59 1.41.59.51 0 1.02-.2 1.41-.59l7.78-7.78 2.81-2.81c.8-.78.8-2.07 0-2.86zM5.41 20L4 18.59l7.72-7.72 1.47 1.35L5.41 20z\"/>\n",
              "  </svg>\n",
              "      </button>\n",
              "      \n",
              "  <style>\n",
              "    .colab-df-container {\n",
              "      display:flex;\n",
              "      flex-wrap:wrap;\n",
              "      gap: 12px;\n",
              "    }\n",
              "\n",
              "    .colab-df-convert {\n",
              "      background-color: #E8F0FE;\n",
              "      border: none;\n",
              "      border-radius: 50%;\n",
              "      cursor: pointer;\n",
              "      display: none;\n",
              "      fill: #1967D2;\n",
              "      height: 32px;\n",
              "      padding: 0 0 0 0;\n",
              "      width: 32px;\n",
              "    }\n",
              "\n",
              "    .colab-df-convert:hover {\n",
              "      background-color: #E2EBFA;\n",
              "      box-shadow: 0px 1px 2px rgba(60, 64, 67, 0.3), 0px 1px 3px 1px rgba(60, 64, 67, 0.15);\n",
              "      fill: #174EA6;\n",
              "    }\n",
              "\n",
              "    [theme=dark] .colab-df-convert {\n",
              "      background-color: #3B4455;\n",
              "      fill: #D2E3FC;\n",
              "    }\n",
              "\n",
              "    [theme=dark] .colab-df-convert:hover {\n",
              "      background-color: #434B5C;\n",
              "      box-shadow: 0px 1px 3px 1px rgba(0, 0, 0, 0.15);\n",
              "      filter: drop-shadow(0px 1px 2px rgba(0, 0, 0, 0.3));\n",
              "      fill: #FFFFFF;\n",
              "    }\n",
              "  </style>\n",
              "\n",
              "      <script>\n",
              "        const buttonEl =\n",
              "          document.querySelector('#df-9af81621-77cc-4157-ab6e-3bb6c3ea2aa6 button.colab-df-convert');\n",
              "        buttonEl.style.display =\n",
              "          google.colab.kernel.accessAllowed ? 'block' : 'none';\n",
              "\n",
              "        async function convertToInteractive(key) {\n",
              "          const element = document.querySelector('#df-9af81621-77cc-4157-ab6e-3bb6c3ea2aa6');\n",
              "          const dataTable =\n",
              "            await google.colab.kernel.invokeFunction('convertToInteractive',\n",
              "                                                     [key], {});\n",
              "          if (!dataTable) return;\n",
              "\n",
              "          const docLinkHtml = 'Like what you see? Visit the ' +\n",
              "            '<a target=\"_blank\" href=https://colab.research.google.com/notebooks/data_table.ipynb>data table notebook</a>'\n",
              "            + ' to learn more about interactive tables.';\n",
              "          element.innerHTML = '';\n",
              "          dataTable['output_type'] = 'display_data';\n",
              "          await google.colab.output.renderOutput(dataTable, element);\n",
              "          const docLink = document.createElement('div');\n",
              "          docLink.innerHTML = docLinkHtml;\n",
              "          element.appendChild(docLink);\n",
              "        }\n",
              "      </script>\n",
              "    </div>\n",
              "  </div>\n",
              "  "
            ]
          },
          "metadata": {},
          "execution_count": 27
        }
      ]
    },
    {
      "cell_type": "code",
      "source": [
        "data_sort=df.groupby('CATE')['REVIEW'].count()\n"
      ],
      "metadata": {
        "id": "lcx7P8-ykCuD"
      },
      "execution_count": null,
      "outputs": []
    },
    {
      "cell_type": "code",
      "source": [
        "df1=df.groupby('CATE')['REVIEW'].count().sort_values('count',ascending=False).head(5)\n",
        "sns.countplot(x = df1['CATE'])\n"
      ],
      "metadata": {
        "colab": {
          "base_uri": "https://localhost:8080/",
          "height": 449
        },
        "id": "yw3a2aS-i9uS",
        "outputId": "5aa8341e-f783-4396-ca3f-1f2dbc96e344"
      },
      "execution_count": null,
      "outputs": [
        {
          "output_type": "error",
          "ename": "ValueError",
          "evalue": "ignored",
          "traceback": [
            "\u001b[0;31m---------------------------------------------------------------------------\u001b[0m",
            "\u001b[0;31mKeyError\u001b[0m                                  Traceback (most recent call last)",
            "\u001b[0;32m/usr/local/lib/python3.9/dist-packages/pandas/core/generic.py\u001b[0m in \u001b[0;36m_get_axis_number\u001b[0;34m(cls, axis)\u001b[0m\n\u001b[1;32m    549\u001b[0m         \u001b[0;32mtry\u001b[0m\u001b[0;34m:\u001b[0m\u001b[0;34m\u001b[0m\u001b[0;34m\u001b[0m\u001b[0m\n\u001b[0;32m--> 550\u001b[0;31m             \u001b[0;32mreturn\u001b[0m \u001b[0mcls\u001b[0m\u001b[0;34m.\u001b[0m\u001b[0m_AXIS_TO_AXIS_NUMBER\u001b[0m\u001b[0;34m[\u001b[0m\u001b[0maxis\u001b[0m\u001b[0;34m]\u001b[0m\u001b[0;34m\u001b[0m\u001b[0;34m\u001b[0m\u001b[0m\n\u001b[0m\u001b[1;32m    551\u001b[0m         \u001b[0;32mexcept\u001b[0m \u001b[0mKeyError\u001b[0m\u001b[0;34m:\u001b[0m\u001b[0;34m\u001b[0m\u001b[0;34m\u001b[0m\u001b[0m\n",
            "\u001b[0;31mKeyError\u001b[0m: 'count'",
            "\nDuring handling of the above exception, another exception occurred:\n",
            "\u001b[0;31mValueError\u001b[0m                                Traceback (most recent call last)",
            "\u001b[0;32m<ipython-input-73-04e04556506c>\u001b[0m in \u001b[0;36m<cell line: 1>\u001b[0;34m()\u001b[0m\n\u001b[0;32m----> 1\u001b[0;31m \u001b[0mdf1\u001b[0m\u001b[0;34m=\u001b[0m\u001b[0mdf\u001b[0m\u001b[0;34m.\u001b[0m\u001b[0mgroupby\u001b[0m\u001b[0;34m(\u001b[0m\u001b[0;34m'CATE'\u001b[0m\u001b[0;34m)\u001b[0m\u001b[0;34m[\u001b[0m\u001b[0;34m'REVIEW'\u001b[0m\u001b[0;34m]\u001b[0m\u001b[0;34m.\u001b[0m\u001b[0mcount\u001b[0m\u001b[0;34m(\u001b[0m\u001b[0;34m)\u001b[0m\u001b[0;34m.\u001b[0m\u001b[0msort_values\u001b[0m\u001b[0;34m(\u001b[0m\u001b[0;34m'count'\u001b[0m\u001b[0;34m,\u001b[0m\u001b[0mascending\u001b[0m\u001b[0;34m=\u001b[0m\u001b[0;32mFalse\u001b[0m\u001b[0;34m)\u001b[0m\u001b[0;34m.\u001b[0m\u001b[0mhead\u001b[0m\u001b[0;34m(\u001b[0m\u001b[0;36m5\u001b[0m\u001b[0;34m)\u001b[0m\u001b[0;34m\u001b[0m\u001b[0;34m\u001b[0m\u001b[0m\n\u001b[0m\u001b[1;32m      2\u001b[0m \u001b[0msns\u001b[0m\u001b[0;34m.\u001b[0m\u001b[0mcountplot\u001b[0m\u001b[0;34m(\u001b[0m\u001b[0mx\u001b[0m \u001b[0;34m=\u001b[0m \u001b[0mdf1\u001b[0m\u001b[0;34m[\u001b[0m\u001b[0;34m'CATE'\u001b[0m\u001b[0;34m]\u001b[0m\u001b[0;34m)\u001b[0m\u001b[0;34m\u001b[0m\u001b[0;34m\u001b[0m\u001b[0m\n",
            "\u001b[0;32m/usr/local/lib/python3.9/dist-packages/pandas/util/_decorators.py\u001b[0m in \u001b[0;36mwrapper\u001b[0;34m(*args, **kwargs)\u001b[0m\n\u001b[1;32m    309\u001b[0m                     \u001b[0mstacklevel\u001b[0m\u001b[0;34m=\u001b[0m\u001b[0mstacklevel\u001b[0m\u001b[0;34m,\u001b[0m\u001b[0;34m\u001b[0m\u001b[0;34m\u001b[0m\u001b[0m\n\u001b[1;32m    310\u001b[0m                 )\n\u001b[0;32m--> 311\u001b[0;31m             \u001b[0;32mreturn\u001b[0m \u001b[0mfunc\u001b[0m\u001b[0;34m(\u001b[0m\u001b[0;34m*\u001b[0m\u001b[0margs\u001b[0m\u001b[0;34m,\u001b[0m \u001b[0;34m**\u001b[0m\u001b[0mkwargs\u001b[0m\u001b[0;34m)\u001b[0m\u001b[0;34m\u001b[0m\u001b[0;34m\u001b[0m\u001b[0m\n\u001b[0m\u001b[1;32m    312\u001b[0m \u001b[0;34m\u001b[0m\u001b[0m\n\u001b[1;32m    313\u001b[0m         \u001b[0;32mreturn\u001b[0m \u001b[0mwrapper\u001b[0m\u001b[0;34m\u001b[0m\u001b[0;34m\u001b[0m\u001b[0m\n",
            "\u001b[0;32m/usr/local/lib/python3.9/dist-packages/pandas/core/series.py\u001b[0m in \u001b[0;36msort_values\u001b[0;34m(self, axis, ascending, inplace, kind, na_position, ignore_index, key)\u001b[0m\n\u001b[1;32m   3500\u001b[0m         \u001b[0minplace\u001b[0m \u001b[0;34m=\u001b[0m \u001b[0mvalidate_bool_kwarg\u001b[0m\u001b[0;34m(\u001b[0m\u001b[0minplace\u001b[0m\u001b[0;34m,\u001b[0m \u001b[0;34m\"inplace\"\u001b[0m\u001b[0;34m)\u001b[0m\u001b[0;34m\u001b[0m\u001b[0;34m\u001b[0m\u001b[0m\n\u001b[1;32m   3501\u001b[0m         \u001b[0;31m# Validate the axis parameter\u001b[0m\u001b[0;34m\u001b[0m\u001b[0;34m\u001b[0m\u001b[0m\n\u001b[0;32m-> 3502\u001b[0;31m         \u001b[0mself\u001b[0m\u001b[0;34m.\u001b[0m\u001b[0m_get_axis_number\u001b[0m\u001b[0;34m(\u001b[0m\u001b[0maxis\u001b[0m\u001b[0;34m)\u001b[0m\u001b[0;34m\u001b[0m\u001b[0;34m\u001b[0m\u001b[0m\n\u001b[0m\u001b[1;32m   3503\u001b[0m \u001b[0;34m\u001b[0m\u001b[0m\n\u001b[1;32m   3504\u001b[0m         \u001b[0;31m# GH 5856/5853\u001b[0m\u001b[0;34m\u001b[0m\u001b[0;34m\u001b[0m\u001b[0m\n",
            "\u001b[0;32m/usr/local/lib/python3.9/dist-packages/pandas/core/generic.py\u001b[0m in \u001b[0;36m_get_axis_number\u001b[0;34m(cls, axis)\u001b[0m\n\u001b[1;32m    550\u001b[0m             \u001b[0;32mreturn\u001b[0m \u001b[0mcls\u001b[0m\u001b[0;34m.\u001b[0m\u001b[0m_AXIS_TO_AXIS_NUMBER\u001b[0m\u001b[0;34m[\u001b[0m\u001b[0maxis\u001b[0m\u001b[0;34m]\u001b[0m\u001b[0;34m\u001b[0m\u001b[0;34m\u001b[0m\u001b[0m\n\u001b[1;32m    551\u001b[0m         \u001b[0;32mexcept\u001b[0m \u001b[0mKeyError\u001b[0m\u001b[0;34m:\u001b[0m\u001b[0;34m\u001b[0m\u001b[0;34m\u001b[0m\u001b[0m\n\u001b[0;32m--> 552\u001b[0;31m             \u001b[0;32mraise\u001b[0m \u001b[0mValueError\u001b[0m\u001b[0;34m(\u001b[0m\u001b[0;34mf\"No axis named {axis} for object type {cls.__name__}\"\u001b[0m\u001b[0;34m)\u001b[0m\u001b[0;34m\u001b[0m\u001b[0;34m\u001b[0m\u001b[0m\n\u001b[0m\u001b[1;32m    553\u001b[0m \u001b[0;34m\u001b[0m\u001b[0m\n\u001b[1;32m    554\u001b[0m     \u001b[0;34m@\u001b[0m\u001b[0mfinal\u001b[0m\u001b[0;34m\u001b[0m\u001b[0;34m\u001b[0m\u001b[0m\n",
            "\u001b[0;31mValueError\u001b[0m: No axis named count for object type Series"
          ]
        }
      ]
    },
    {
      "cell_type": "code",
      "source": [
        "#품목별 리뷰갯수 시각화\n",
        "import matplotlib.pyplot as plt\n",
        "import seaborn as sns\n",
        "#카테고리별 데이터의 양 확인->countplot\n",
        "#barplot 은 카테고리 값에 따른 실수 값의 평균과 편차를 표시하는 기본적인 바 차트를 생성한다. 평균은 막대의 높이로, 편차는 에러바(error bar)로 표시한다.\n",
        "sns.barplot(x=\"CATE\", y=\"count\",data=df1)\n",
        "plt.title(\"품목별 데이터 갯수의 barplot\")\n",
        "#범례표시\n",
        "#plt.legend()\n",
        "plt.show()\n"
      ],
      "metadata": {
        "colab": {
          "base_uri": "https://localhost:8080/",
          "height": 395
        },
        "id": "2cICqXE4Pkg3",
        "outputId": "d823e8f9-c6b5-4a9c-81cd-2e50eeb55da5"
      },
      "execution_count": null,
      "outputs": [
        {
          "output_type": "error",
          "ename": "ValueError",
          "evalue": "ignored",
          "traceback": [
            "\u001b[0;31m---------------------------------------------------------------------------\u001b[0m",
            "\u001b[0;31mValueError\u001b[0m                                Traceback (most recent call last)",
            "\u001b[0;32m<ipython-input-34-72731b1e832e>\u001b[0m in \u001b[0;36m<cell line: 6>\u001b[0;34m()\u001b[0m\n\u001b[1;32m      4\u001b[0m \u001b[0;31m#카테고리별 데이터의 양 확인->countplot\u001b[0m\u001b[0;34m\u001b[0m\u001b[0;34m\u001b[0m\u001b[0m\n\u001b[1;32m      5\u001b[0m \u001b[0;31m#barplot 은 카테고리 값에 따른 실수 값의 평균과 편차를 표시하는 기본적인 바 차트를 생성한다. 평균은 막대의 높이로, 편차는 에러바(error bar)로 표시한다.\u001b[0m\u001b[0;34m\u001b[0m\u001b[0;34m\u001b[0m\u001b[0m\n\u001b[0;32m----> 6\u001b[0;31m \u001b[0msns\u001b[0m\u001b[0;34m.\u001b[0m\u001b[0mbarplot\u001b[0m\u001b[0;34m(\u001b[0m\u001b[0mx\u001b[0m\u001b[0;34m=\u001b[0m\u001b[0;34m\"CATE\"\u001b[0m\u001b[0;34m,\u001b[0m \u001b[0my\u001b[0m\u001b[0;34m=\u001b[0m\u001b[0;34m\"count\"\u001b[0m\u001b[0;34m,\u001b[0m\u001b[0mdata\u001b[0m\u001b[0;34m=\u001b[0m\u001b[0mdf1\u001b[0m\u001b[0;34m)\u001b[0m\u001b[0;34m\u001b[0m\u001b[0;34m\u001b[0m\u001b[0m\n\u001b[0m\u001b[1;32m      7\u001b[0m \u001b[0mplt\u001b[0m\u001b[0;34m.\u001b[0m\u001b[0mtitle\u001b[0m\u001b[0;34m(\u001b[0m\u001b[0;34m\"품목별 데이터 갯수의 barplot\"\u001b[0m\u001b[0;34m)\u001b[0m\u001b[0;34m\u001b[0m\u001b[0;34m\u001b[0m\u001b[0m\n\u001b[1;32m      8\u001b[0m \u001b[0;31m#범례표시\u001b[0m\u001b[0;34m\u001b[0m\u001b[0;34m\u001b[0m\u001b[0m\n",
            "\u001b[0;32m/usr/local/lib/python3.9/dist-packages/seaborn/categorical.py\u001b[0m in \u001b[0;36mbarplot\u001b[0;34m(data, x, y, hue, order, hue_order, estimator, errorbar, n_boot, units, seed, orient, color, palette, saturation, width, errcolor, errwidth, capsize, dodge, ci, ax, **kwargs)\u001b[0m\n\u001b[1;32m   2753\u001b[0m         \u001b[0mestimator\u001b[0m \u001b[0;34m=\u001b[0m \u001b[0;34m\"size\"\u001b[0m\u001b[0;34m\u001b[0m\u001b[0;34m\u001b[0m\u001b[0m\n\u001b[1;32m   2754\u001b[0m \u001b[0;34m\u001b[0m\u001b[0m\n\u001b[0;32m-> 2755\u001b[0;31m     plotter = _BarPlotter(x, y, hue, data, order, hue_order,\n\u001b[0m\u001b[1;32m   2756\u001b[0m                           \u001b[0mestimator\u001b[0m\u001b[0;34m,\u001b[0m \u001b[0merrorbar\u001b[0m\u001b[0;34m,\u001b[0m \u001b[0mn_boot\u001b[0m\u001b[0;34m,\u001b[0m \u001b[0munits\u001b[0m\u001b[0;34m,\u001b[0m \u001b[0mseed\u001b[0m\u001b[0;34m,\u001b[0m\u001b[0;34m\u001b[0m\u001b[0;34m\u001b[0m\u001b[0m\n\u001b[1;32m   2757\u001b[0m                           \u001b[0morient\u001b[0m\u001b[0;34m,\u001b[0m \u001b[0mcolor\u001b[0m\u001b[0;34m,\u001b[0m \u001b[0mpalette\u001b[0m\u001b[0;34m,\u001b[0m \u001b[0msaturation\u001b[0m\u001b[0;34m,\u001b[0m\u001b[0;34m\u001b[0m\u001b[0;34m\u001b[0m\u001b[0m\n",
            "\u001b[0;32m/usr/local/lib/python3.9/dist-packages/seaborn/categorical.py\u001b[0m in \u001b[0;36m__init__\u001b[0;34m(self, x, y, hue, data, order, hue_order, estimator, errorbar, n_boot, units, seed, orient, color, palette, saturation, width, errcolor, errwidth, capsize, dodge)\u001b[0m\n\u001b[1;32m   1528\u001b[0m                  errcolor, errwidth, capsize, dodge):\n\u001b[1;32m   1529\u001b[0m         \u001b[0;34m\"\"\"Initialize the plotter.\"\"\"\u001b[0m\u001b[0;34m\u001b[0m\u001b[0;34m\u001b[0m\u001b[0m\n\u001b[0;32m-> 1530\u001b[0;31m         self.establish_variables(x, y, hue, data, orient,\n\u001b[0m\u001b[1;32m   1531\u001b[0m                                  order, hue_order, units)\n\u001b[1;32m   1532\u001b[0m         \u001b[0mself\u001b[0m\u001b[0;34m.\u001b[0m\u001b[0mestablish_colors\u001b[0m\u001b[0;34m(\u001b[0m\u001b[0mcolor\u001b[0m\u001b[0;34m,\u001b[0m \u001b[0mpalette\u001b[0m\u001b[0;34m,\u001b[0m \u001b[0msaturation\u001b[0m\u001b[0;34m)\u001b[0m\u001b[0;34m\u001b[0m\u001b[0;34m\u001b[0m\u001b[0m\n",
            "\u001b[0;32m/usr/local/lib/python3.9/dist-packages/seaborn/categorical.py\u001b[0m in \u001b[0;36mestablish_variables\u001b[0;34m(self, x, y, hue, data, orient, order, hue_order, units)\u001b[0m\n\u001b[1;32m    539\u001b[0m                 \u001b[0;32mif\u001b[0m \u001b[0misinstance\u001b[0m\u001b[0;34m(\u001b[0m\u001b[0mvar\u001b[0m\u001b[0;34m,\u001b[0m \u001b[0mstr\u001b[0m\u001b[0;34m)\u001b[0m\u001b[0;34m:\u001b[0m\u001b[0;34m\u001b[0m\u001b[0;34m\u001b[0m\u001b[0m\n\u001b[1;32m    540\u001b[0m                     \u001b[0merr\u001b[0m \u001b[0;34m=\u001b[0m \u001b[0;34mf\"Could not interpret input '{var}'\"\u001b[0m\u001b[0;34m\u001b[0m\u001b[0;34m\u001b[0m\u001b[0m\n\u001b[0;32m--> 541\u001b[0;31m                     \u001b[0;32mraise\u001b[0m \u001b[0mValueError\u001b[0m\u001b[0;34m(\u001b[0m\u001b[0merr\u001b[0m\u001b[0;34m)\u001b[0m\u001b[0;34m\u001b[0m\u001b[0;34m\u001b[0m\u001b[0m\n\u001b[0m\u001b[1;32m    542\u001b[0m \u001b[0;34m\u001b[0m\u001b[0m\n\u001b[1;32m    543\u001b[0m             \u001b[0;31m# Figure out the plotting orientation\u001b[0m\u001b[0;34m\u001b[0m\u001b[0;34m\u001b[0m\u001b[0m\n",
            "\u001b[0;31mValueError\u001b[0m: Could not interpret input 'CATE'"
          ]
        }
      ]
    },
    {
      "cell_type": "markdown",
      "source": [
        "형태소 분석\n"
      ],
      "metadata": {
        "id": "d19HlyxCTYLr"
      }
    },
    {
      "cell_type": "markdown",
      "source": [
        "한글 형태소 분석기 konlpy 설치\n"
      ],
      "metadata": {
        "id": "QhYMIqcjTZnD"
      }
    },
    {
      "cell_type": "code",
      "source": [
        "pip install konlpy\n"
      ],
      "metadata": {
        "colab": {
          "base_uri": "https://localhost:8080/"
        },
        "id": "P053DmP0PkjV",
        "outputId": "8729c8bd-cc45-454a-b0b2-8e7181928479"
      },
      "execution_count": null,
      "outputs": [
        {
          "output_type": "stream",
          "name": "stdout",
          "text": [
            "Looking in indexes: https://pypi.org/simple, https://us-python.pkg.dev/colab-wheels/public/simple/\n",
            "Collecting konlpy\n",
            "  Downloading konlpy-0.6.0-py2.py3-none-any.whl (19.4 MB)\n",
            "\u001b[2K     \u001b[90m━━━━━━━━━━━━━━━━━━━━━━━━━━━━━━━━━━━━━━━━\u001b[0m \u001b[32m19.4/19.4 MB\u001b[0m \u001b[31m45.7 MB/s\u001b[0m eta \u001b[36m0:00:00\u001b[0m\n",
            "\u001b[?25hCollecting JPype1>=0.7.0\n",
            "  Downloading JPype1-1.4.1-cp39-cp39-manylinux_2_12_x86_64.manylinux2010_x86_64.whl (465 kB)\n",
            "\u001b[2K     \u001b[90m━━━━━━━━━━━━━━━━━━━━━━━━━━━━━━━━━━━━━━\u001b[0m \u001b[32m465.3/465.3 kB\u001b[0m \u001b[31m40.4 MB/s\u001b[0m eta \u001b[36m0:00:00\u001b[0m\n",
            "\u001b[?25hRequirement already satisfied: numpy>=1.6 in /usr/local/lib/python3.9/dist-packages (from konlpy) (1.22.4)\n",
            "Requirement already satisfied: lxml>=4.1.0 in /usr/local/lib/python3.9/dist-packages (from konlpy) (4.9.2)\n",
            "Requirement already satisfied: packaging in /usr/local/lib/python3.9/dist-packages (from JPype1>=0.7.0->konlpy) (23.0)\n",
            "Installing collected packages: JPype1, konlpy\n",
            "Successfully installed JPype1-1.4.1 konlpy-0.6.0\n"
          ]
        }
      ]
    },
    {
      "cell_type": "markdown",
      "source": [
        "Okt 함수를 이용해 형태소 분석  최다빈도 단어 TOP 5 형태소분석"
      ],
      "metadata": {
        "id": "SC5nNzJkTdqT"
      }
    },
    {
      "cell_type": "code",
      "source": [
        "from konlpy.tag import Okt\n",
        "from collections import Counter\n",
        "REVIEW=df['REVIEWs'].to_list()\n",
        "\n",
        "# Okt 함수를 이용해 형태소 분석\n",
        "okt = Okt()\n",
        "REVIEW_data=[]\n",
        "extend = REVIEW_data.extend\n",
        "line =[]\n",
        "for num in REVIEW:\n",
        "  line = okt.pos(num)\n",
        "  n_adj =[]\n",
        "  # 명사 또는 형용사인 단어만 n_adj에 넣어주기\n",
        "  for word, tag in line:\n",
        "      if tag in ['Noun','Adjective']:\n",
        "          n_adj.append(word)\n",
        "\n",
        "  #제외할 단어 추가\n",
        "  stop_words = \"  없고 앞 습 구매 제품 좋은  조금  지금 피부   똥 햇 있길 원래 작고  다행 못 저렴하게잘  번 년 벌써 평소 예전 좀더  라가 작아 게 쟁 사은 제일 차이   얼마 냉이 사서   테 를 예정 려고 개선 작은 다른 리터 좋 좋아 있어서 없는 다만 후기 저렴한 고생 이제 개 오리진 뉴 변도 에이 없어서 역시 고민 투 최고 미리 응 엄마 걸 밀크 마음 애 중 맘 같아서 하루 다시 기한 빠른 크기기 복용 바로 도움 구 여성 분유 질 유산균 달 캡슐 정도 한번 편해요 편하고 꼭 있습니다 용 좋겠네요 처음 통 시작 한번 염 위해 좋겠어요 자주 맛있네요 집 다가 분 없어요 무 하나 배 금방 문해 일단 좋은데 기대 목 아주 섭취 같아 저 매번 매일 몸 알 효과 확실히 상품 우유 안 너 먹기 아기 애기 우리 로 주문 쭉 아가 빠르고 만족합니다  입니다 보고 플로 맛 아이 꾸준히 계속 항상 추천 해 구입 좋아요 이번 좋고 도 후 때문 정말 좋네요 좋다고 제 있어요 같아요 사용 늘 좀 먹이 개월 진짜 또 좋습니다 때 단계 좋아서 느낌 거 것 생각 더 요 좀 늘 진짜 또\" #추가할 때 띄어쓰기로 추가해주기\n",
        "  stop_words = set(stop_words.split(' '))\n",
        "\n",
        "  # 불용어를 제외한 단어만 남기기\n",
        "  n_adj = [word for word in n_adj if not word in stop_words]\n",
        "  #print(n_adj)\n",
        "  extend(n_adj)\n",
        "counts = Counter(REVIEW_data)\n",
        "tags = counts.most_common(5)\n",
        "print(tags)"
      ],
      "metadata": {
        "colab": {
          "base_uri": "https://localhost:8080/"
        },
        "id": "OOam_z-IPklq",
        "outputId": "6b408c1b-2ed8-4d12-bb3a-938d8575a1a4"
      },
      "execution_count": null,
      "outputs": [
        {
          "output_type": "stream",
          "name": "stdout",
          "text": [
            "[('배송', 615), ('선물', 438), ('성분', 407), ('유통', 294), ('가격', 279)]\n"
          ]
        }
      ]
    },
    {
      "cell_type": "markdown",
      "source": [
        "리뷰 최다 빈도 TOP 5 단어 데이터프레임생성\n"
      ],
      "metadata": {
        "id": "m64WobB6XIKh"
      }
    },
    {
      "cell_type": "code",
      "source": [
        "all_words_df=pd.DataFrame(tags)\n",
        "all_words_df.rename(columns={0: \"word\", 1: \"count\"}, inplace=True)\n",
        "most=all_words_df.sort_values(\"count\",ascending=False)\n",
        "most"
      ],
      "metadata": {
        "id": "NGIajhFKTumy",
        "colab": {
          "base_uri": "https://localhost:8080/",
          "height": 206
        },
        "outputId": "d4566192-24ec-4e94-febd-f6a2a96eda62"
      },
      "execution_count": null,
      "outputs": [
        {
          "output_type": "execute_result",
          "data": {
            "text/plain": [
              "  word  count\n",
              "0   배송    615\n",
              "1   선물    438\n",
              "2   성분    407\n",
              "3   유통    294\n",
              "4   가격    279"
            ],
            "text/html": [
              "\n",
              "  <div id=\"df-0ed3cd3f-e54d-4258-96e3-a2c40bc13e32\">\n",
              "    <div class=\"colab-df-container\">\n",
              "      <div>\n",
              "<style scoped>\n",
              "    .dataframe tbody tr th:only-of-type {\n",
              "        vertical-align: middle;\n",
              "    }\n",
              "\n",
              "    .dataframe tbody tr th {\n",
              "        vertical-align: top;\n",
              "    }\n",
              "\n",
              "    .dataframe thead th {\n",
              "        text-align: right;\n",
              "    }\n",
              "</style>\n",
              "<table border=\"1\" class=\"dataframe\">\n",
              "  <thead>\n",
              "    <tr style=\"text-align: right;\">\n",
              "      <th></th>\n",
              "      <th>word</th>\n",
              "      <th>count</th>\n",
              "    </tr>\n",
              "  </thead>\n",
              "  <tbody>\n",
              "    <tr>\n",
              "      <th>0</th>\n",
              "      <td>배송</td>\n",
              "      <td>615</td>\n",
              "    </tr>\n",
              "    <tr>\n",
              "      <th>1</th>\n",
              "      <td>선물</td>\n",
              "      <td>438</td>\n",
              "    </tr>\n",
              "    <tr>\n",
              "      <th>2</th>\n",
              "      <td>성분</td>\n",
              "      <td>407</td>\n",
              "    </tr>\n",
              "    <tr>\n",
              "      <th>3</th>\n",
              "      <td>유통</td>\n",
              "      <td>294</td>\n",
              "    </tr>\n",
              "    <tr>\n",
              "      <th>4</th>\n",
              "      <td>가격</td>\n",
              "      <td>279</td>\n",
              "    </tr>\n",
              "  </tbody>\n",
              "</table>\n",
              "</div>\n",
              "      <button class=\"colab-df-convert\" onclick=\"convertToInteractive('df-0ed3cd3f-e54d-4258-96e3-a2c40bc13e32')\"\n",
              "              title=\"Convert this dataframe to an interactive table.\"\n",
              "              style=\"display:none;\">\n",
              "        \n",
              "  <svg xmlns=\"http://www.w3.org/2000/svg\" height=\"24px\"viewBox=\"0 0 24 24\"\n",
              "       width=\"24px\">\n",
              "    <path d=\"M0 0h24v24H0V0z\" fill=\"none\"/>\n",
              "    <path d=\"M18.56 5.44l.94 2.06.94-2.06 2.06-.94-2.06-.94-.94-2.06-.94 2.06-2.06.94zm-11 1L8.5 8.5l.94-2.06 2.06-.94-2.06-.94L8.5 2.5l-.94 2.06-2.06.94zm10 10l.94 2.06.94-2.06 2.06-.94-2.06-.94-.94-2.06-.94 2.06-2.06.94z\"/><path d=\"M17.41 7.96l-1.37-1.37c-.4-.4-.92-.59-1.43-.59-.52 0-1.04.2-1.43.59L10.3 9.45l-7.72 7.72c-.78.78-.78 2.05 0 2.83L4 21.41c.39.39.9.59 1.41.59.51 0 1.02-.2 1.41-.59l7.78-7.78 2.81-2.81c.8-.78.8-2.07 0-2.86zM5.41 20L4 18.59l7.72-7.72 1.47 1.35L5.41 20z\"/>\n",
              "  </svg>\n",
              "      </button>\n",
              "      \n",
              "  <style>\n",
              "    .colab-df-container {\n",
              "      display:flex;\n",
              "      flex-wrap:wrap;\n",
              "      gap: 12px;\n",
              "    }\n",
              "\n",
              "    .colab-df-convert {\n",
              "      background-color: #E8F0FE;\n",
              "      border: none;\n",
              "      border-radius: 50%;\n",
              "      cursor: pointer;\n",
              "      display: none;\n",
              "      fill: #1967D2;\n",
              "      height: 32px;\n",
              "      padding: 0 0 0 0;\n",
              "      width: 32px;\n",
              "    }\n",
              "\n",
              "    .colab-df-convert:hover {\n",
              "      background-color: #E2EBFA;\n",
              "      box-shadow: 0px 1px 2px rgba(60, 64, 67, 0.3), 0px 1px 3px 1px rgba(60, 64, 67, 0.15);\n",
              "      fill: #174EA6;\n",
              "    }\n",
              "\n",
              "    [theme=dark] .colab-df-convert {\n",
              "      background-color: #3B4455;\n",
              "      fill: #D2E3FC;\n",
              "    }\n",
              "\n",
              "    [theme=dark] .colab-df-convert:hover {\n",
              "      background-color: #434B5C;\n",
              "      box-shadow: 0px 1px 3px 1px rgba(0, 0, 0, 0.15);\n",
              "      filter: drop-shadow(0px 1px 2px rgba(0, 0, 0, 0.3));\n",
              "      fill: #FFFFFF;\n",
              "    }\n",
              "  </style>\n",
              "\n",
              "      <script>\n",
              "        const buttonEl =\n",
              "          document.querySelector('#df-0ed3cd3f-e54d-4258-96e3-a2c40bc13e32 button.colab-df-convert');\n",
              "        buttonEl.style.display =\n",
              "          google.colab.kernel.accessAllowed ? 'block' : 'none';\n",
              "\n",
              "        async function convertToInteractive(key) {\n",
              "          const element = document.querySelector('#df-0ed3cd3f-e54d-4258-96e3-a2c40bc13e32');\n",
              "          const dataTable =\n",
              "            await google.colab.kernel.invokeFunction('convertToInteractive',\n",
              "                                                     [key], {});\n",
              "          if (!dataTable) return;\n",
              "\n",
              "          const docLinkHtml = 'Like what you see? Visit the ' +\n",
              "            '<a target=\"_blank\" href=https://colab.research.google.com/notebooks/data_table.ipynb>data table notebook</a>'\n",
              "            + ' to learn more about interactive tables.';\n",
              "          element.innerHTML = '';\n",
              "          dataTable['output_type'] = 'display_data';\n",
              "          await google.colab.output.renderOutput(dataTable, element);\n",
              "          const docLink = document.createElement('div');\n",
              "          docLink.innerHTML = docLinkHtml;\n",
              "          element.appendChild(docLink);\n",
              "        }\n",
              "      </script>\n",
              "    </div>\n",
              "  </div>\n",
              "  "
            ]
          },
          "metadata": {},
          "execution_count": 114
        }
      ]
    },
    {
      "cell_type": "markdown",
      "source": [],
      "metadata": {
        "id": "5nNh5_JcMw95"
      }
    },
    {
      "cell_type": "markdown",
      "source": [
        "이미지 추가(워드크라우드 모양 설정)\n"
      ],
      "metadata": {
        "id": "nDHMGg0TpRTn"
      }
    },
    {
      "cell_type": "code",
      "source": [
        "import numpy as np\n",
        "from PIL import Image\n",
        "\n",
        "mask = Image.new(\"RGBA\",(1000,800), (255,255,255)) #(2555,2575)는 사진 크기, (255,255,255)는 색을의미\n",
        "image = Image.open('/content/drive/MyDrive/heart2.png').convert(\"RGBA\")\n",
        "x,y = image.size\n",
        "mask.paste(image,(0,0,x,y),image)\n",
        "mask = np.array(mask)"
      ],
      "metadata": {
        "id": "5Ef9NthpXM-1"
      },
      "execution_count": null,
      "outputs": []
    },
    {
      "cell_type": "markdown",
      "source": [
        "리뷰 최다빈도수 TOP 20 WordCloud(워드크라우드) 만들기\n"
      ],
      "metadata": {
        "id": "xY7xV3ZZpWQt"
      }
    },
    {
      "cell_type": "code",
      "source": [
        "from wordcloud import WordCloud\n",
        "#폰트지정\n",
        "font='/content/drive/MyDrive/NanumGothic.ttf'\n",
        "word_cloud = WordCloud(font_path=font, background_color='white',max_font_size=83, mask=mask,colormap='hsv').generate_from_frequencies(dict(tags))\n",
        "\n",
        "# 사이즈 설정 및 화면에 출력\n",
        "import matplotlib.pyplot as plt\n",
        "plt.figure(figsize=(15,10))\n",
        "plt.imshow(word_cloud)\n",
        "plt.axis('off')\n",
        "#워드클라우드 사진으로 저장\n",
        "\n",
        "plt.savefig('news.png', bbox_inches='tight')\n",
        "plt.show()"
      ],
      "metadata": {
        "colab": {
          "base_uri": "https://localhost:8080/",
          "height": 807
        },
        "id": "sQ0-YanQpTVQ",
        "outputId": "66823d78-2cd8-43e1-cc53-f67401a62484"
      },
      "execution_count": null,
      "outputs": [
        {
          "output_type": "display_data",
          "data": {
            "text/plain": [
              "<Figure size 1500x1000 with 1 Axes>"
            ],
            "image/png": "[encoded data removed]"
          },
          "metadata": {}
        }
      ]
    },
    {
      "cell_type": "code",
      "source": [
        "from wordcloud import WordCloud\n",
        "\n",
        "#wordCloud생성\n",
        "#한글꺠지는 문제 해결하기위해 font_path 지정\n",
        "font='/content/drive/MyDrive/NanumGothic.ttf'\n",
        "\n",
        "negative_word_cloud = WordCloud(font_path=font, \n",
        "               background_color='white', width=330, height=220,max_font_size=135, colormap='prism')\n",
        "print(dict(tags))\n",
        "cloud = negative_word_cloud.generate_from_frequencies(dict(tags))\n",
        "plt.figure(figsize=(10, 8))\n",
        "plt.title('TOP5')\n",
        "plt.axis('off')\n",
        "plt.imshow(cloud)\n",
        "plt.show()"
      ],
      "metadata": {
        "colab": {
          "base_uri": "https://localhost:8080/",
          "height": 593
        },
        "id": "ESv5KPH5Z90O",
        "outputId": "f9fd1b6c-b727-400f-b287-db7f6588e9bf"
      },
      "execution_count": null,
      "outputs": [
        {
          "output_type": "stream",
          "name": "stdout",
          "text": [
            "{'배송': 615, '선물': 438, '성분': 407, '유통': 294, '가격': 279}\n"
          ]
        },
        {
          "output_type": "display_data",
          "data": {
            "text/plain": [
              "<Figure size 1000x800 with 1 Axes>"
            ],
            "image/png": "[encoded data removed]"
          },
          "metadata": {}
        }
      ]
    },
    {
      "cell_type": "code",
      "source": [
        "\n"
      ],
      "metadata": {
        "id": "bk-7JTn8pj8X"
      },
      "execution_count": null,
      "outputs": []
    },
    {
      "cell_type": "code",
      "source": [],
      "metadata": {
        "id": "xJncbpUE5X0f"
      },
      "execution_count": null,
      "outputs": []
    }
  ]
}